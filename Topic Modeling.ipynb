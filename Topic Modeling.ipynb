{
 "cells": [
  {
   "attachments": {},
   "cell_type": "markdown",
   "id": "bce2bb89",
   "metadata": {},
   "source": [
    "# ADS 509 Assignment 5.1: Topic Modeling\n",
    "\n",
    "This notebook holds Assignment 5.1 for Module 5 in ADS 509, Applied Text Mining. Work through this notebook, writing code and answering questions where required. \n",
    "\n",
    "In this assignment you will work with a categorical corpus that accompanies `nltk`. You will build the three types of topic models described in Chapter 8 of _Blueprints for Text Analytics using Python_: NMF, LSA, and LDA. You will compare these models to the true categories. \n"
   ]
  },
  {
   "cell_type": "code",
   "execution_count": null,
   "id": "a85bce08",
   "metadata": {},
   "outputs": [
    {
     "name": "stderr",
     "output_type": "stream",
     "text": [
      "[nltk_data] Downloading package brown to /Users/clee/nltk_data...\n",
      "[nltk_data]   Package brown is already up-to-date!\n"
     ]
    }
   ],
   "source": [
    "# These libraries may be useful to you\n",
    "\n",
    "#!pip install pyLDAvis==3.4.1 --user  #You need to restart the Kernel after installation.\n",
    "# You also need a Python version => 3.9.0\n",
    "import nltk\n",
    "nltk.download('brown')\n",
    "from nltk.corpus import brown\n",
    "\n",
    "import numpy as np\n",
    "import pandas as pd\n",
    "from tqdm.auto import tqdm\n",
    "\n",
    "import pyLDAvis\n",
    "import pyLDAvis.lda_model\n",
    "import pyLDAvis.gensim_models\n",
    "\n",
    "import spacy\n",
    "from sklearn.feature_extraction.text import TfidfVectorizer, CountVectorizer\n",
    "from sklearn.decomposition import NMF, TruncatedSVD, LatentDirichletAllocation\n",
    "\n",
    "from spacy.lang.en.stop_words import STOP_WORDS as stopwords\n",
    "from collections import Counter, defaultdict\n",
    "\n",
    "nlp = spacy.load(\"en_core_web_sm\")"
   ]
  },
  {
   "cell_type": "code",
   "execution_count": null,
   "id": "a218df60",
   "metadata": {},
   "outputs": [],
   "source": [
    "# add any additional libaries you need here\n",
    "import matplotlib\n",
    "from collections import Counter"
   ]
  },
  {
   "cell_type": "code",
   "execution_count": 10,
   "id": "494de237",
   "metadata": {},
   "outputs": [],
   "source": [
    "# This function comes from the BTAP repo.\n",
    "\n",
    "def display_topics(model, features, no_top_words=5):\n",
    "    for topic, words in enumerate(model.components_):\n",
    "        total = words.sum()\n",
    "        largest = words.argsort()[::-1] # invert sort order\n",
    "        print(\"\\nTopic %02d\" % topic)\n",
    "        for i in range(0, no_top_words):\n",
    "            print(\"  %s (%2.2f)\" % (features[largest[i]], abs(words[largest[i]]*100.0/total)))"
   ]
  },
  {
   "attachments": {},
   "cell_type": "markdown",
   "id": "a30a901c",
   "metadata": {},
   "source": [
    "## Getting to Know the Brown Corpus\n",
    "\n",
    "Let's spend a bit of time getting to know what's in the Brown corpus, our NLTK example of an \"overlapping\" corpus."
   ]
  },
  {
   "cell_type": "code",
   "execution_count": 11,
   "id": "457c59ed",
   "metadata": {},
   "outputs": [
    {
     "name": "stdout",
     "output_type": "stream",
     "text": [
      "For adventure we have 29 articles.\n",
      "For belles_lettres we have 75 articles.\n",
      "For editorial we have 27 articles.\n",
      "For fiction we have 29 articles.\n",
      "For government we have 30 articles.\n",
      "For hobbies we have 36 articles.\n",
      "For humor we have 9 articles.\n",
      "For learned we have 80 articles.\n",
      "For lore we have 48 articles.\n",
      "For mystery we have 24 articles.\n",
      "For news we have 44 articles.\n",
      "For religion we have 17 articles.\n",
      "For reviews we have 17 articles.\n",
      "For romance we have 29 articles.\n",
      "For science_fiction we have 6 articles.\n"
     ]
    }
   ],
   "source": [
    "# categories of articles in Brown corpus\n",
    "for category in brown.categories() :\n",
    "    print(f\"For {category} we have {len(brown.fileids(categories=category))} articles.\")"
   ]
  },
  {
   "attachments": {},
   "cell_type": "markdown",
   "id": "23fb133c",
   "metadata": {},
   "source": [
    "Let's create a dataframe of the articles in of hobbies, editorial, government, news, and romance."
   ]
  },
  {
   "cell_type": "code",
   "execution_count": 12,
   "id": "18f50b9d",
   "metadata": {},
   "outputs": [
    {
     "data": {
      "text/plain": [
       "(166, 3)"
      ]
     },
     "execution_count": 12,
     "metadata": {},
     "output_type": "execute_result"
    }
   ],
   "source": [
    "categories = ['editorial','government','news','romance','hobbies'] \n",
    "\n",
    "category_list = []\n",
    "file_ids = []\n",
    "texts = []\n",
    "\n",
    "for category in categories : \n",
    "    for file_id in brown.fileids(categories=category) :\n",
    "        \n",
    "        # build some lists for a dataframe\n",
    "        category_list.append(category)\n",
    "        file_ids.append(file_id)\n",
    "        \n",
    "        text = brown.words(fileids=file_id)\n",
    "        texts.append(\" \".join(text))\n",
    "\n",
    "        \n",
    "        \n",
    "df = pd.DataFrame()\n",
    "df['category'] = category_list\n",
    "df['id'] = file_ids\n",
    "df['text'] = texts \n",
    "\n",
    "df.shape"
   ]
  },
  {
   "cell_type": "code",
   "execution_count": null,
   "id": "d0e1c840",
   "metadata": {},
   "outputs": [
    {
     "data": {
      "text/plain": [
       "category\n",
       "news          44\n",
       "hobbies       36\n",
       "government    30\n",
       "romance       29\n",
       "editorial     27\n",
       "Name: count, dtype: int64"
      ]
     },
     "execution_count": 52,
     "metadata": {},
     "output_type": "execute_result"
    }
   ],
   "source": [
    "df['category'].value_counts()"
   ]
  },
  {
   "cell_type": "code",
   "execution_count": 14,
   "id": "586f47de",
   "metadata": {},
   "outputs": [],
   "source": [
    "# Let's add some helpful columns on the df\n",
    "df['char_len'] = df['text'].apply(len)\n",
    "df['word_len'] = df['text'].apply(lambda x: len(x.split()))\n"
   ]
  },
  {
   "cell_type": "code",
   "execution_count": 17,
   "id": "2128fd2d",
   "metadata": {},
   "outputs": [
    {
     "data": {
      "text/plain": [
       "<Axes: xlabel='category'>"
      ]
     },
     "execution_count": 17,
     "metadata": {},
     "output_type": "execute_result"
    },
    {
     "data": {
      "image/png": "[encoded data removed]",
      "text/plain": [
       "<Figure size 1000x600 with 1 Axes>"
      ]
     },
     "metadata": {},
     "output_type": "display_data"
    }
   ],
   "source": [
    "%matplotlib inline\n",
    "df.groupby('category').agg({'word_len': 'mean'}).plot.bar(figsize=(10,6))"
   ]
  },
  {
   "attachments": {},
   "cell_type": "markdown",
   "id": "554ffeb5",
   "metadata": {},
   "source": [
    "Now do our TF-IDF and Count vectorizations."
   ]
  },
  {
   "cell_type": "code",
   "execution_count": 18,
   "id": "21a7d247",
   "metadata": {},
   "outputs": [
    {
     "name": "stderr",
     "output_type": "stream",
     "text": [
      "/Users/clee/github/ads-tm-topic-modeling/.venv/lib/python3.9/site-packages/sklearn/feature_extraction/text.py:402: UserWarning: Your stop_words may be inconsistent with your preprocessing. Tokenizing the stop words generated tokens ['ll', 've'] not in stop_words.\n",
      "  warnings.warn(\n"
     ]
    },
    {
     "data": {
      "text/plain": [
       "(166, 4941)"
      ]
     },
     "execution_count": 18,
     "metadata": {},
     "output_type": "execute_result"
    }
   ],
   "source": [
    "count_text_vectorizer = CountVectorizer(stop_words=list(stopwords), min_df=5, max_df=0.7)\n",
    "count_text_vectors = count_text_vectorizer.fit_transform(df[\"text\"])\n",
    "count_text_vectors.shape"
   ]
  },
  {
   "cell_type": "code",
   "execution_count": 19,
   "id": "875deba9",
   "metadata": {},
   "outputs": [
    {
     "data": {
      "text/plain": [
       "(166, 4941)"
      ]
     },
     "execution_count": 19,
     "metadata": {},
     "output_type": "execute_result"
    }
   ],
   "source": [
    "tfidf_text_vectorizer = TfidfVectorizer(stop_words=list(stopwords), min_df=5, max_df=0.7)\n",
    "tfidf_text_vectors = tfidf_text_vectorizer.fit_transform(df['text'])\n",
    "tfidf_text_vectors.shape"
   ]
  },
  {
   "attachments": {},
   "cell_type": "markdown",
   "id": "a1062b21",
   "metadata": {},
   "source": [
    "Q: What do the two data frames `count_text_vectors` and `tfidf_text_vectors` hold? \n",
    "\n",
    "A: `count_text_vectors` holds a CountVectorizer matrix where each row represents a document and each column represents the count of a particular token. `rfidf_text_vectors` holds a TFIDFVectorizer matrix where each row represents a document and each column is a the product of a token's term frequency and its inverse document frequency. The TF-IDF scores range from 0 to infinity where a higher score indicates that the token is highly relevant to a specific document."
   ]
  },
  {
   "attachments": {},
   "cell_type": "markdown",
   "id": "f77c3f94",
   "metadata": {},
   "source": [
    "## Fitting a Non-Negative Matrix Factorization Model\n",
    "\n",
    "In this section the code to fit a five-topic NMF model has already been written. This code comes directly from the [BTAP repo](https://github.com/blueprints-for-text-analytics-python/blueprints-text), which will help you tremendously in the coming sections. "
   ]
  },
  {
   "cell_type": "code",
   "execution_count": 20,
   "id": "d28745a3",
   "metadata": {},
   "outputs": [],
   "source": [
    "nmf_text_model = NMF(n_components=5, random_state=314)\n",
    "W_text_matrix = nmf_text_model.fit_transform(tfidf_text_vectors)\n",
    "H_text_matrix = nmf_text_model.components_"
   ]
  },
  {
   "cell_type": "code",
   "execution_count": 21,
   "id": "a67185e7",
   "metadata": {},
   "outputs": [
    {
     "name": "stdout",
     "output_type": "stream",
     "text": [
      "\n",
      "Topic 00\n",
      "  mr (0.51)\n",
      "  president (0.45)\n",
      "  kennedy (0.43)\n",
      "  united (0.42)\n",
      "  khrushchev (0.40)\n",
      "\n",
      "Topic 01\n",
      "  said (0.88)\n",
      "  didn (0.46)\n",
      "  ll (0.45)\n",
      "  thought (0.42)\n",
      "  man (0.37)\n",
      "\n",
      "Topic 02\n",
      "  state (0.39)\n",
      "  development (0.36)\n",
      "  tax (0.33)\n",
      "  sales (0.30)\n",
      "  program (0.25)\n",
      "\n",
      "Topic 03\n",
      "  mrs (2.61)\n",
      "  mr (0.78)\n",
      "  said (0.63)\n",
      "  miss (0.52)\n",
      "  car (0.51)\n",
      "\n",
      "Topic 04\n",
      "  game (1.02)\n",
      "  league (0.74)\n",
      "  ball (0.72)\n",
      "  baseball (0.71)\n",
      "  team (0.66)\n"
     ]
    }
   ],
   "source": [
    "display_topics(nmf_text_model, tfidf_text_vectorizer.get_feature_names_out())"
   ]
  },
  {
   "attachments": {},
   "cell_type": "markdown",
   "id": "fee51e9b",
   "metadata": {},
   "source": [
    "Now some work for you to do. Compare the NMF categorization to the original categories from the Brown Corpus.\n",
    "\n",
    "We are interested in the extent to which our NMF categorization agrees or disagrees with the original categories in the corpus. For each topic in your NMF model, tally the Brown categories and interpret the results. \n"
   ]
  },
  {
   "cell_type": "code",
   "execution_count": null,
   "id": "7c8c8eb0",
   "metadata": {},
   "outputs": [
    {
     "name": "stdout",
     "output_type": "stream",
     "text": [
      "Counter({2: 65, 1: 41, 0: 32, 3: 18, 4: 10})\n"
     ]
    }
   ],
   "source": [
    "# count how many documents were assigned to each topic\n",
    "topic_list = []\n",
    "nmf_most_likely_topics = W_text_matrix.argmax(axis=1)\n",
    "for topic in nmf_most_likely_topics:\n",
    "    topic_list.append(topic)\n",
    "topic_counts = Counter(topic_list)\n",
    "print(topic_counts)"
   ]
  },
  {
   "cell_type": "code",
   "execution_count": 47,
   "id": "17520782",
   "metadata": {},
   "outputs": [
    {
     "name": "stdout",
     "output_type": "stream",
     "text": [
      "category   editorial  government  hobbies  news  romance\n",
      "nmf_topic                                               \n",
      "0                 20           4        0     8        0\n",
      "1                  4           0        8     0       29\n",
      "2                  2          26       26    11        0\n",
      "3                  0           0        1    17        0\n",
      "4                  1           0        1     8        0\n"
     ]
    }
   ],
   "source": [
    "topic_category_df = pd.DataFrame({\n",
    "    'nmf_topic': nmf_most_likely_topics,\n",
    "    'category': df['category']\n",
    "})\n",
    "\n",
    "# [Disclaimer] This code block was generated by Github CoPilot to get a better breakdown of topics by Brown category.\n",
    "# Tally the Brown categories within each NMF topic\n",
    "topic_category_counts = topic_category_df.groupby('nmf_topic')['category'].value_counts().unstack(fill_value=0)\n",
    "print(topic_category_counts)"
   ]
  },
  {
   "attachments": {},
   "cell_type": "markdown",
   "id": "f8d4e2bc",
   "metadata": {},
   "source": [
    "Q: How does your five-topic NMF model compare to the original Brown categories? \n",
    "\n",
    "A: \n",
    "- Topic 0 is likely `editorial` having captured 20 documents, but there is overlap with `news` (8). \n",
    "- Topic 1 is likely `romance` (29), but there is some overlap with `hobbies` (8) and `editorial` (4).\n",
    "- Topic 2 is highly confused between `government` (26), `hobbies` (26) and `news` (11).\n",
    "- Topic 3 is likely `news` (17) and almost none in the other categories.\n",
    "- Topic 4 is weakly associated with `news` (8) but has low capture across all the categories."
   ]
  },
  {
   "attachments": {},
   "cell_type": "markdown",
   "id": "82e37cb5",
   "metadata": {},
   "source": [
    "## Fitting an LSA Model\n",
    "\n",
    "In this section, follow the example from the repository and fit an LSA model (called a \"TruncatedSVD\" in `sklearn`). Again fit a five-topic model and compare it to the actual categories in the Brown corpus. Use the TF-IDF vectors for your fit, as above. \n",
    "\n",
    "To be explicit, we are once again interested in the extent to which this LSA factorization agrees or disagrees with the original categories in the corpus. For each topic in your model, tally the Brown categories and interpret the results. \n"
   ]
  },
  {
   "cell_type": "code",
   "execution_count": 48,
   "id": "00b53d3d",
   "metadata": {},
   "outputs": [
    {
     "name": "stdout",
     "output_type": "stream",
     "text": [
      "category   editorial  government  hobbies  news  romance\n",
      "lsa_topic                                               \n",
      "0                 27          21       25    33       21\n",
      "1                  0           7        0     0        8\n",
      "2                  0           2       11     0        0\n",
      "3                  0           0        0     4        0\n",
      "4                  0           0        0     7        0\n"
     ]
    }
   ],
   "source": [
    "lsa_text_model = TruncatedSVD(n_components=5, random_state=42)\n",
    "lsa_text_matrix = lsa_text_model.fit_transform(tfidf_text_vectors)\n",
    "\n",
    "# Assign each document to the topic with the highest absolute value in the LSA matrix\n",
    "lsa_most_likely_topics = np.abs(lsa_text_matrix).argmax(axis=1)\n",
    "\n",
    "# Tally the Brown categories within each LSA topic\n",
    "lsa_topic_category_df = pd.DataFrame({\n",
    "    'lsa_topic': lsa_most_likely_topics,\n",
    "    'category': df['category']\n",
    "})\n",
    "lsa_topic_category_counts = lsa_topic_category_df.groupby('lsa_topic')['category'].value_counts().unstack(fill_value=0)\n",
    "print(lsa_topic_category_counts)"
   ]
  },
  {
   "attachments": {},
   "cell_type": "markdown",
   "id": "4d94d56f",
   "metadata": {},
   "source": [
    "Q: How does your five-topic LSA model compare to the original Brown categories? \n",
    "\n",
    "A: The LSA model does poorly at separating the documents. It assigned 117 documents to topic 0, while showing only weak associatations for the others."
   ]
  },
  {
   "cell_type": "code",
   "execution_count": 49,
   "id": "377a886e",
   "metadata": {},
   "outputs": [
    {
     "name": "stdout",
     "output_type": "stream",
     "text": [
      "\n",
      "Topic 00\n",
      "  said (0.44)\n",
      "  mr (0.25)\n",
      "  mrs (0.22)\n",
      "  state (0.20)\n",
      "  man (0.17)\n",
      "\n",
      "Topic 01\n",
      "  said (3.89)\n",
      "  ll (2.73)\n",
      "  didn (2.63)\n",
      "  thought (2.20)\n",
      "  got (1.97)\n",
      "\n",
      "Topic 02\n",
      "  mrs (3.14)\n",
      "  mr (1.73)\n",
      "  said (1.05)\n",
      "  kennedy (0.81)\n",
      "  president (0.77)\n",
      "\n",
      "Topic 03\n",
      "  mrs (30.38)\n",
      "  club (6.70)\n",
      "  game (6.40)\n",
      "  jr (5.81)\n",
      "  dallas (5.50)\n",
      "\n",
      "Topic 04\n",
      "  game (4.33)\n",
      "  league (3.09)\n",
      "  baseball (3.06)\n",
      "  ball (2.94)\n",
      "  team (2.81)\n"
     ]
    }
   ],
   "source": [
    "# call display_topics on your model\n",
    "display_topics(lsa_text_model, tfidf_text_vectorizer.get_feature_names_out())"
   ]
  },
  {
   "attachments": {},
   "cell_type": "markdown",
   "id": "ea8b280a",
   "metadata": {},
   "source": [
    "Q: What is your interpretation of the display topics output? \n",
    "\n",
    "A: The top tokens associated with each topic are not very distinct compared to the NMF model. For example, the token \"mrs\" appears in the top 5 words for topics 0, 2, and 3. It also seems to be weighting fairly common tokens like "
   ]
  },
  {
   "attachments": {},
   "cell_type": "markdown",
   "id": "b4ab4d29",
   "metadata": {},
   "source": [
    "## Fitting an LDA Model\n",
    "\n",
    "Finally, fit a five-topic LDA model using the count vectors (`count_text_vectors` from above). Display the results using `pyLDAvis.display` and describe what you learn from that visualization. "
   ]
  },
  {
   "cell_type": "code",
   "execution_count": 59,
   "id": "802cb8ff",
   "metadata": {},
   "outputs": [
    {
     "data": {
      "text/html": [
       "<style>#sk-container-id-3 {\n",
       "  /* Definition of color scheme common for light and dark mode */\n",
       "  --sklearn-color-text: #000;\n",
       "  --sklearn-color-text-muted: #666;\n",
       "  --sklearn-color-line: gray;\n",
       "  /* Definition of color scheme for unfitted estimators */\n",
       "  --sklearn-color-unfitted-level-0: #fff5e6;\n",
       "  --sklearn-color-unfitted-level-1: #f6e4d2;\n",
       "  --sklearn-color-unfitted-level-2: #ffe0b3;\n",
       "  --sklearn-color-unfitted-level-3: chocolate;\n",
       "  /* Definition of color scheme for fitted estimators */\n",
       "  --sklearn-color-fitted-level-0: #f0f8ff;\n",
       "  --sklearn-color-fitted-level-1: #d4ebff;\n",
       "  --sklearn-color-fitted-level-2: #b3dbfd;\n",
       "  --sklearn-color-fitted-level-3: cornflowerblue;\n",
       "\n",
       "  /* Specific color for light theme */\n",
       "  --sklearn-color-text-on-default-background: var(--sg-text-color, var(--theme-code-foreground, var(--jp-content-font-color1, black)));\n",
       "  --sklearn-color-background: var(--sg-background-color, var(--theme-background, var(--jp-layout-color0, white)));\n",
       "  --sklearn-color-border-box: var(--sg-text-color, var(--theme-code-foreground, var(--jp-content-font-color1, black)));\n",
       "  --sklearn-color-icon: #696969;\n",
       "\n",
       "  @media (prefers-color-scheme: dark) {\n",
       "    /* Redefinition of color scheme for dark theme */\n",
       "    --sklearn-color-text-on-default-background: var(--sg-text-color, var(--theme-code-foreground, var(--jp-content-font-color1, white)));\n",
       "    --sklearn-color-background: var(--sg-background-color, var(--theme-background, var(--jp-layout-color0, #111)));\n",
       "    --sklearn-color-border-box: var(--sg-text-color, var(--theme-code-foreground, var(--jp-content-font-color1, white)));\n",
       "    --sklearn-color-icon: #878787;\n",
       "  }\n",
       "}\n",
       "\n",
       "#sk-container-id-3 {\n",
       "  color: var(--sklearn-color-text);\n",
       "}\n",
       "\n",
       "#sk-container-id-3 pre {\n",
       "  padding: 0;\n",
       "}\n",
       "\n",
       "#sk-container-id-3 input.sk-hidden--visually {\n",
       "  border: 0;\n",
       "  clip: rect(1px 1px 1px 1px);\n",
       "  clip: rect(1px, 1px, 1px, 1px);\n",
       "  height: 1px;\n",
       "  margin: -1px;\n",
       "  overflow: hidden;\n",
       "  padding: 0;\n",
       "  position: absolute;\n",
       "  width: 1px;\n",
       "}\n",
       "\n",
       "#sk-container-id-3 div.sk-dashed-wrapped {\n",
       "  border: 1px dashed var(--sklearn-color-line);\n",
       "  margin: 0 0.4em 0.5em 0.4em;\n",
       "  box-sizing: border-box;\n",
       "  padding-bottom: 0.4em;\n",
       "  background-color: var(--sklearn-color-background);\n",
       "}\n",
       "\n",
       "#sk-container-id-3 div.sk-container {\n",
       "  /* jupyter's `normalize.less` sets `[hidden] { display: none; }`\n",
       "     but bootstrap.min.css set `[hidden] { display: none !important; }`\n",
       "     so we also need the `!important` here to be able to override the\n",
       "     default hidden behavior on the sphinx rendered scikit-learn.org.\n",
       "     See: https://github.com/scikit-learn/scikit-learn/issues/21755 */\n",
       "  display: inline-block !important;\n",
       "  position: relative;\n",
       "}\n",
       "\n",
       "#sk-container-id-3 div.sk-text-repr-fallback {\n",
       "  display: none;\n",
       "}\n",
       "\n",
       "div.sk-parallel-item,\n",
       "div.sk-serial,\n",
       "div.sk-item {\n",
       "  /* draw centered vertical line to link estimators */\n",
       "  background-image: linear-gradient(var(--sklearn-color-text-on-default-background), var(--sklearn-color-text-on-default-background));\n",
       "  background-size: 2px 100%;\n",
       "  background-repeat: no-repeat;\n",
       "  background-position: center center;\n",
       "}\n",
       "\n",
       "/* Parallel-specific style estimator block */\n",
       "\n",
       "#sk-container-id-3 div.sk-parallel-item::after {\n",
       "  content: \"\";\n",
       "  width: 100%;\n",
       "  border-bottom: 2px solid var(--sklearn-color-text-on-default-background);\n",
       "  flex-grow: 1;\n",
       "}\n",
       "\n",
       "#sk-container-id-3 div.sk-parallel {\n",
       "  display: flex;\n",
       "  align-items: stretch;\n",
       "  justify-content: center;\n",
       "  background-color: var(--sklearn-color-background);\n",
       "  position: relative;\n",
       "}\n",
       "\n",
       "#sk-container-id-3 div.sk-parallel-item {\n",
       "  display: flex;\n",
       "  flex-direction: column;\n",
       "}\n",
       "\n",
       "#sk-container-id-3 div.sk-parallel-item:first-child::after {\n",
       "  align-self: flex-end;\n",
       "  width: 50%;\n",
       "}\n",
       "\n",
       "#sk-container-id-3 div.sk-parallel-item:last-child::after {\n",
       "  align-self: flex-start;\n",
       "  width: 50%;\n",
       "}\n",
       "\n",
       "#sk-container-id-3 div.sk-parallel-item:only-child::after {\n",
       "  width: 0;\n",
       "}\n",
       "\n",
       "/* Serial-specific style estimator block */\n",
       "\n",
       "#sk-container-id-3 div.sk-serial {\n",
       "  display: flex;\n",
       "  flex-direction: column;\n",
       "  align-items: center;\n",
       "  background-color: var(--sklearn-color-background);\n",
       "  padding-right: 1em;\n",
       "  padding-left: 1em;\n",
       "}\n",
       "\n",
       "\n",
       "/* Toggleable style: style used for estimator/Pipeline/ColumnTransformer box that is\n",
       "clickable and can be expanded/collapsed.\n",
       "- Pipeline and ColumnTransformer use this feature and define the default style\n",
       "- Estimators will overwrite some part of the style using the `sk-estimator` class\n",
       "*/\n",
       "\n",
       "/* Pipeline and ColumnTransformer style (default) */\n",
       "\n",
       "#sk-container-id-3 div.sk-toggleable {\n",
       "  /* Default theme specific background. It is overwritten whether we have a\n",
       "  specific estimator or a Pipeline/ColumnTransformer */\n",
       "  background-color: var(--sklearn-color-background);\n",
       "}\n",
       "\n",
       "/* Toggleable label */\n",
       "#sk-container-id-3 label.sk-toggleable__label {\n",
       "  cursor: pointer;\n",
       "  display: flex;\n",
       "  width: 100%;\n",
       "  margin-bottom: 0;\n",
       "  padding: 0.5em;\n",
       "  box-sizing: border-box;\n",
       "  text-align: center;\n",
       "  align-items: start;\n",
       "  justify-content: space-between;\n",
       "  gap: 0.5em;\n",
       "}\n",
       "\n",
       "#sk-container-id-3 label.sk-toggleable__label .caption {\n",
       "  font-size: 0.6rem;\n",
       "  font-weight: lighter;\n",
       "  color: var(--sklearn-color-text-muted);\n",
       "}\n",
       "\n",
       "#sk-container-id-3 label.sk-toggleable__label-arrow:before {\n",
       "  /* Arrow on the left of the label */\n",
       "  content: \"▸\";\n",
       "  float: left;\n",
       "  margin-right: 0.25em;\n",
       "  color: var(--sklearn-color-icon);\n",
       "}\n",
       "\n",
       "#sk-container-id-3 label.sk-toggleable__label-arrow:hover:before {\n",
       "  color: var(--sklearn-color-text);\n",
       "}\n",
       "\n",
       "/* Toggleable content - dropdown */\n",
       "\n",
       "#sk-container-id-3 div.sk-toggleable__content {\n",
       "  max-height: 0;\n",
       "  max-width: 0;\n",
       "  overflow: hidden;\n",
       "  text-align: left;\n",
       "  /* unfitted */\n",
       "  background-color: var(--sklearn-color-unfitted-level-0);\n",
       "}\n",
       "\n",
       "#sk-container-id-3 div.sk-toggleable__content.fitted {\n",
       "  /* fitted */\n",
       "  background-color: var(--sklearn-color-fitted-level-0);\n",
       "}\n",
       "\n",
       "#sk-container-id-3 div.sk-toggleable__content pre {\n",
       "  margin: 0.2em;\n",
       "  border-radius: 0.25em;\n",
       "  color: var(--sklearn-color-text);\n",
       "  /* unfitted */\n",
       "  background-color: var(--sklearn-color-unfitted-level-0);\n",
       "}\n",
       "\n",
       "#sk-container-id-3 div.sk-toggleable__content.fitted pre {\n",
       "  /* unfitted */\n",
       "  background-color: var(--sklearn-color-fitted-level-0);\n",
       "}\n",
       "\n",
       "#sk-container-id-3 input.sk-toggleable__control:checked~div.sk-toggleable__content {\n",
       "  /* Expand drop-down */\n",
       "  max-height: 200px;\n",
       "  max-width: 100%;\n",
       "  overflow: auto;\n",
       "}\n",
       "\n",
       "#sk-container-id-3 input.sk-toggleable__control:checked~label.sk-toggleable__label-arrow:before {\n",
       "  content: \"▾\";\n",
       "}\n",
       "\n",
       "/* Pipeline/ColumnTransformer-specific style */\n",
       "\n",
       "#sk-container-id-3 div.sk-label input.sk-toggleable__control:checked~label.sk-toggleable__label {\n",
       "  color: var(--sklearn-color-text);\n",
       "  background-color: var(--sklearn-color-unfitted-level-2);\n",
       "}\n",
       "\n",
       "#sk-container-id-3 div.sk-label.fitted input.sk-toggleable__control:checked~label.sk-toggleable__label {\n",
       "  background-color: var(--sklearn-color-fitted-level-2);\n",
       "}\n",
       "\n",
       "/* Estimator-specific style */\n",
       "\n",
       "/* Colorize estimator box */\n",
       "#sk-container-id-3 div.sk-estimator input.sk-toggleable__control:checked~label.sk-toggleable__label {\n",
       "  /* unfitted */\n",
       "  background-color: var(--sklearn-color-unfitted-level-2);\n",
       "}\n",
       "\n",
       "#sk-container-id-3 div.sk-estimator.fitted input.sk-toggleable__control:checked~label.sk-toggleable__label {\n",
       "  /* fitted */\n",
       "  background-color: var(--sklearn-color-fitted-level-2);\n",
       "}\n",
       "\n",
       "#sk-container-id-3 div.sk-label label.sk-toggleable__label,\n",
       "#sk-container-id-3 div.sk-label label {\n",
       "  /* The background is the default theme color */\n",
       "  color: var(--sklearn-color-text-on-default-background);\n",
       "}\n",
       "\n",
       "/* On hover, darken the color of the background */\n",
       "#sk-container-id-3 div.sk-label:hover label.sk-toggleable__label {\n",
       "  color: var(--sklearn-color-text);\n",
       "  background-color: var(--sklearn-color-unfitted-level-2);\n",
       "}\n",
       "\n",
       "/* Label box, darken color on hover, fitted */\n",
       "#sk-container-id-3 div.sk-label.fitted:hover label.sk-toggleable__label.fitted {\n",
       "  color: var(--sklearn-color-text);\n",
       "  background-color: var(--sklearn-color-fitted-level-2);\n",
       "}\n",
       "\n",
       "/* Estimator label */\n",
       "\n",
       "#sk-container-id-3 div.sk-label label {\n",
       "  font-family: monospace;\n",
       "  font-weight: bold;\n",
       "  display: inline-block;\n",
       "  line-height: 1.2em;\n",
       "}\n",
       "\n",
       "#sk-container-id-3 div.sk-label-container {\n",
       "  text-align: center;\n",
       "}\n",
       "\n",
       "/* Estimator-specific */\n",
       "#sk-container-id-3 div.sk-estimator {\n",
       "  font-family: monospace;\n",
       "  border: 1px dotted var(--sklearn-color-border-box);\n",
       "  border-radius: 0.25em;\n",
       "  box-sizing: border-box;\n",
       "  margin-bottom: 0.5em;\n",
       "  /* unfitted */\n",
       "  background-color: var(--sklearn-color-unfitted-level-0);\n",
       "}\n",
       "\n",
       "#sk-container-id-3 div.sk-estimator.fitted {\n",
       "  /* fitted */\n",
       "  background-color: var(--sklearn-color-fitted-level-0);\n",
       "}\n",
       "\n",
       "/* on hover */\n",
       "#sk-container-id-3 div.sk-estimator:hover {\n",
       "  /* unfitted */\n",
       "  background-color: var(--sklearn-color-unfitted-level-2);\n",
       "}\n",
       "\n",
       "#sk-container-id-3 div.sk-estimator.fitted:hover {\n",
       "  /* fitted */\n",
       "  background-color: var(--sklearn-color-fitted-level-2);\n",
       "}\n",
       "\n",
       "/* Specification for estimator info (e.g. \"i\" and \"?\") */\n",
       "\n",
       "/* Common style for \"i\" and \"?\" */\n",
       "\n",
       ".sk-estimator-doc-link,\n",
       "a:link.sk-estimator-doc-link,\n",
       "a:visited.sk-estimator-doc-link {\n",
       "  float: right;\n",
       "  font-size: smaller;\n",
       "  line-height: 1em;\n",
       "  font-family: monospace;\n",
       "  background-color: var(--sklearn-color-background);\n",
       "  border-radius: 1em;\n",
       "  height: 1em;\n",
       "  width: 1em;\n",
       "  text-decoration: none !important;\n",
       "  margin-left: 0.5em;\n",
       "  text-align: center;\n",
       "  /* unfitted */\n",
       "  border: var(--sklearn-color-unfitted-level-1) 1pt solid;\n",
       "  color: var(--sklearn-color-unfitted-level-1);\n",
       "}\n",
       "\n",
       ".sk-estimator-doc-link.fitted,\n",
       "a:link.sk-estimator-doc-link.fitted,\n",
       "a:visited.sk-estimator-doc-link.fitted {\n",
       "  /* fitted */\n",
       "  border: var(--sklearn-color-fitted-level-1) 1pt solid;\n",
       "  color: var(--sklearn-color-fitted-level-1);\n",
       "}\n",
       "\n",
       "/* On hover */\n",
       "div.sk-estimator:hover .sk-estimator-doc-link:hover,\n",
       ".sk-estimator-doc-link:hover,\n",
       "div.sk-label-container:hover .sk-estimator-doc-link:hover,\n",
       ".sk-estimator-doc-link:hover {\n",
       "  /* unfitted */\n",
       "  background-color: var(--sklearn-color-unfitted-level-3);\n",
       "  color: var(--sklearn-color-background);\n",
       "  text-decoration: none;\n",
       "}\n",
       "\n",
       "div.sk-estimator.fitted:hover .sk-estimator-doc-link.fitted:hover,\n",
       ".sk-estimator-doc-link.fitted:hover,\n",
       "div.sk-label-container:hover .sk-estimator-doc-link.fitted:hover,\n",
       ".sk-estimator-doc-link.fitted:hover {\n",
       "  /* fitted */\n",
       "  background-color: var(--sklearn-color-fitted-level-3);\n",
       "  color: var(--sklearn-color-background);\n",
       "  text-decoration: none;\n",
       "}\n",
       "\n",
       "/* Span, style for the box shown on hovering the info icon */\n",
       ".sk-estimator-doc-link span {\n",
       "  display: none;\n",
       "  z-index: 9999;\n",
       "  position: relative;\n",
       "  font-weight: normal;\n",
       "  right: .2ex;\n",
       "  padding: .5ex;\n",
       "  margin: .5ex;\n",
       "  width: min-content;\n",
       "  min-width: 20ex;\n",
       "  max-width: 50ex;\n",
       "  color: var(--sklearn-color-text);\n",
       "  box-shadow: 2pt 2pt 4pt #999;\n",
       "  /* unfitted */\n",
       "  background: var(--sklearn-color-unfitted-level-0);\n",
       "  border: .5pt solid var(--sklearn-color-unfitted-level-3);\n",
       "}\n",
       "\n",
       ".sk-estimator-doc-link.fitted span {\n",
       "  /* fitted */\n",
       "  background: var(--sklearn-color-fitted-level-0);\n",
       "  border: var(--sklearn-color-fitted-level-3);\n",
       "}\n",
       "\n",
       ".sk-estimator-doc-link:hover span {\n",
       "  display: block;\n",
       "}\n",
       "\n",
       "/* \"?\"-specific style due to the `<a>` HTML tag */\n",
       "\n",
       "#sk-container-id-3 a.estimator_doc_link {\n",
       "  float: right;\n",
       "  font-size: 1rem;\n",
       "  line-height: 1em;\n",
       "  font-family: monospace;\n",
       "  background-color: var(--sklearn-color-background);\n",
       "  border-radius: 1rem;\n",
       "  height: 1rem;\n",
       "  width: 1rem;\n",
       "  text-decoration: none;\n",
       "  /* unfitted */\n",
       "  color: var(--sklearn-color-unfitted-level-1);\n",
       "  border: var(--sklearn-color-unfitted-level-1) 1pt solid;\n",
       "}\n",
       "\n",
       "#sk-container-id-3 a.estimator_doc_link.fitted {\n",
       "  /* fitted */\n",
       "  border: var(--sklearn-color-fitted-level-1) 1pt solid;\n",
       "  color: var(--sklearn-color-fitted-level-1);\n",
       "}\n",
       "\n",
       "/* On hover */\n",
       "#sk-container-id-3 a.estimator_doc_link:hover {\n",
       "  /* unfitted */\n",
       "  background-color: var(--sklearn-color-unfitted-level-3);\n",
       "  color: var(--sklearn-color-background);\n",
       "  text-decoration: none;\n",
       "}\n",
       "\n",
       "#sk-container-id-3 a.estimator_doc_link.fitted:hover {\n",
       "  /* fitted */\n",
       "  background-color: var(--sklearn-color-fitted-level-3);\n",
       "}\n",
       "</style><div id=\"sk-container-id-3\" class=\"sk-top-container\"><div class=\"sk-text-repr-fallback\"><pre>LatentDirichletAllocation(n_components=5, random_state=42)</pre><b>In a Jupyter environment, please rerun this cell to show the HTML representation or trust the notebook. <br />On GitHub, the HTML representation is unable to render, please try loading this page with nbviewer.org.</b></div><div class=\"sk-container\" hidden><div class=\"sk-item\"><div class=\"sk-estimator fitted sk-toggleable\"><input class=\"sk-toggleable__control sk-hidden--visually\" id=\"sk-estimator-id-3\" type=\"checkbox\" checked><label for=\"sk-estimator-id-3\" class=\"sk-toggleable__label fitted sk-toggleable__label-arrow\"><div><div>LatentDirichletAllocation</div></div><div><a class=\"sk-estimator-doc-link fitted\" rel=\"noreferrer\" target=\"_blank\" href=\"https://scikit-learn.org/1.6/modules/generated/sklearn.decomposition.LatentDirichletAllocation.html\">?<span>Documentation for LatentDirichletAllocation</span></a><span class=\"sk-estimator-doc-link fitted\">i<span>Fitted</span></span></div></label><div class=\"sk-toggleable__content fitted\"><pre>LatentDirichletAllocation(n_components=5, random_state=42)</pre></div> </div></div></div></div>"
      ],
      "text/plain": [
       "LatentDirichletAllocation(n_components=5, random_state=42)"
      ]
     },
     "execution_count": 59,
     "metadata": {},
     "output_type": "execute_result"
    }
   ],
   "source": [
    "# Fit your LDA model here\n",
    "lda_text_model = LatentDirichletAllocation(n_components=5, random_state=42)\n",
    "lda_text_model.fit(count_text_vectors)\n"
   ]
  },
  {
   "cell_type": "code",
   "execution_count": 60,
   "id": "ab18adf5",
   "metadata": {},
   "outputs": [
    {
     "name": "stdout",
     "output_type": "stream",
     "text": [
      "\n",
      "Topic 00\n",
      "  home (0.46)\n",
      "  right (0.35)\n",
      "  game (0.35)\n",
      "  way (0.34)\n",
      "  set (0.34)\n",
      "\n",
      "Topic 01\n",
      "  state (0.89)\n",
      "  development (0.57)\n",
      "  states (0.51)\n",
      "  program (0.46)\n",
      "  use (0.44)\n",
      "\n",
      "Topic 02\n",
      "  said (0.93)\n",
      "  mr (0.73)\n",
      "  president (0.63)\n",
      "  state (0.49)\n",
      "  mrs (0.48)\n",
      "\n",
      "Topic 03\n",
      "  feed (0.90)\n",
      "  general (0.73)\n",
      "  business (0.70)\n",
      "  property (0.69)\n",
      "  shall (0.67)\n",
      "\n",
      "Topic 04\n",
      "  said (1.56)\n",
      "  man (0.62)\n",
      "  little (0.62)\n",
      "  old (0.59)\n",
      "  good (0.53)\n"
     ]
    }
   ],
   "source": [
    "# Call `display_topics` on your fitted model here\n",
    "display_topics(lda_text_model, count_text_vectorizer.get_feature_names_out())"
   ]
  },
  {
   "cell_type": "code",
   "execution_count": null,
   "id": "17d8f09c",
   "metadata": {},
   "outputs": [
    {
     "name": "stdout",
     "output_type": "stream",
     "text": [
      "category   editorial  government  hobbies  news  romance\n",
      "lda_topic                                               \n",
      "0                  3           0       16     9        0\n",
      "1                  1          20       14     3        0\n",
      "2                 22           2        1    31        0\n",
      "3                  0           8        3     1        0\n",
      "4                  1           0        2     0       29\n"
     ]
    }
   ],
   "source": [
    "# Assign each doc to the most likely topic from LDA model\n",
    "lda_most_likely_topics = lda_text_model.transform(count_text_vectors).argmax(axis=1)\n",
    "\n",
    "lda_topic_category_df = pd.DataFrame({\n",
    "    'lda_topic': lda_most_likely_topics,\n",
    "    'category': df['category']\n",
    "})\n",
    "\n",
    "# Tally the Brown categories within each LDA topic\n",
    "lda_topic_category_counts = lda_topic_category_df.groupby('lda_topic')['category'].value_counts().unstack(fill_value=0)\n",
    "print(lda_topic_category_counts)"
   ]
  },
  {
   "attachments": {},
   "cell_type": "markdown",
   "id": "f2c67876",
   "metadata": {},
   "source": [
    "Q: What inference do you draw from the displayed topics for your LDA model? \n",
    "\n",
    "A: \n",
    "- Topic 0 is most likely associated with `hobbies` as words like \"home\" and \"game\" are present.\n",
    "- Topic 1 is most likely `editorial` since the word \"state,\" \"development,\" and \"states\" are weighed heavily.\n",
    "- Topic 2 is likely `government` since the word \"president,\" \"mr,\" and \"said\" are so prominent.\n",
    "- Topic 3 is likely `news` as it is more general than either topic 1 or 2\n",
    "- Topic 4 is likely `romance` given the strength of the word \"man\" and other casual words like \"old\" and \"good\"\n",
    "\n",
    "Q: Repeat the tallying of Brown categories within your topics. How does your five-topic LDA model compare to the original Brown categories? \n",
    "\n",
    "A: The LDA model seems to have good separation for the `romance` category, but still struggles to differentiate `government`, `editorial`, and `news`.\n",
    "- Topic 0 leans towards `hobbies` (16), but also has overlap with `news` (9). \n",
    "- Topic 1 leans towards `government` (20), but it also has overlap with `hobbies` (14).\n",
    "- Topic 2 includes mostly news (31) and editorial (29), which makes sense since editorials are a subset of news.\n",
    "- Topic 3 is the most sparse, but consists of a majority of government docs (8) and some hobby docs (3).\n",
    "- Topic 4 consists of mostly `romance` documents."
   ]
  },
  {
   "cell_type": "code",
   "execution_count": 57,
   "id": "6aae75ca",
   "metadata": {},
   "outputs": [],
   "source": [
    "lda_display = pyLDAvis.lda_model.prepare(lda_text_model, count_text_vectors, count_text_vectorizer, sort_topics=False)"
   ]
  },
  {
   "cell_type": "code",
   "execution_count": 58,
   "id": "2a89fc15",
   "metadata": {},
   "outputs": [
    {
     "data": {
      "text/html": [
       "\n",
       "<link rel=\"stylesheet\" type=\"text/css\" href=\"https://cdn.jsdelivr.net/gh/bmabey/pyLDAvis@3.4.0/pyLDAvis/js/ldavis.v1.0.0.css\">\n",
       "\n",
       "\n",
       "<div id=\"ldavis_el95273143412508481463770563\" style=\"background-color:white;\"></div>\n",
       "<script type=\"text/javascript\">\n",
       "\n",
       "var ldavis_el95273143412508481463770563_data = {\"mdsDat\": {\"x\": [-0.08904549103408811, 0.12393644925088498, 0.025500167589226234, 0.15979135455241938, -0.22018248035844232], \"y\": [0.16135617455413737, -0.009252658807306524, -0.048092367940467284, -0.016212399453429407, -0.08779874835293411], \"topics\": [1, 2, 3, 4, 5], \"cluster\": [1, 1, 1, 1, 1], \"Freq\": [17.447275076686957, 24.24591072579803, 32.83123625596092, 7.470347983419258, 18.00522995813483]}, \"tinfo\": {\"Term\": [\"said\", \"government\", \"general\", \"feed\", \"business\", \"united\", \"state\", \"states\", \"shall\", \"property\", \"department\", \"development\", \"act\", \"john\", \"didn\", \"tax\", \"ll\", \"thought\", \"mother\", \"president\", \"little\", \"board\", \"small\", \"local\", \"shelter\", \"don\", \"man\", \"old\", \"kennedy\", \"court\", \"player\", \"baseball\", \"panels\", \"leg\", \"yards\", \"yankees\", \"holes\", \"gallery\", \"vernon\", \"coach\", \"charlie\", \"plastic\", \"hits\", \"ball\", \"pittsburgh\", \"favorite\", \"runs\", \"pitcher\", \"hole\", \"pitching\", \"team\", \"paint\", \"stadium\", \"ruth\", \"willie\", \"bat\", \"homer\", \"amateur\", \"paintings\", \"chest\", \"pieces\", \"games\", \"cooling\", \"drill\", \"roy\", \"clay\", \"game\", \"bob\", \"golf\", \"season\", \"inch\", \"football\", \"playing\", \"hit\", \"frame\", \"piece\", \"league\", \"fig\", \"signs\", \"club\", \"cut\", \"junior\", \"play\", \"green\", \"run\", \"center\", \"home\", \"set\", \"won\", \"right\", \"place\", \"don\", \"second\", \"way\", \"house\", \"ll\", \"good\", \"work\", \"class\", \"mrs\", \"use\", \"left\", \"high\", \"better\", \"best\", \"said\", \"textile\", \"participation\", \"employee\", \"musical\", \"publications\", \"faculty\", \"forests\", \"recreation\", \"inventory\", \"interior\", \"fiscal\", \"producers\", \"imports\", \"creative\", \"designers\", \"maintain\", \"evaluation\", \"academic\", \"depreciation\", \"exceed\", \"coverage\", \"laboratories\", \"curriculum\", \"engineers\", \"expenditures\", \"comprehensive\", \"locations\", \"educated\", \"resources\", \"fishing\", \"rhode\", \"organizations\", \"vehicles\", \"india\", \"development\", \"projects\", \"library\", \"activities\", \"technical\", \"pool\", \"planning\", \"published\", \"import\", \"management\", \"site\", \"island\", \"plant\", \"medical\", \"bridge\", \"state\", \"research\", \"program\", \"industrial\", \"1960\", \"available\", \"corps\", \"system\", \"use\", \"production\", \"states\", \"period\", \"services\", \"important\", \"area\", \"interest\", \"national\", \"united\", \"work\", \"000\", \"service\", \"college\", \"water\", \"company\", \"government\", \"american\", \"business\", \"public\", \"high\", \"kennedy\", \"nuclear\", \"soviet\", \"khrushchev\", \"laos\", \"berlin\", \"congo\", \"republican\", \"moscow\", \"cuba\", \"weapons\", \"senate\", \"castro\", \"sen\", \"charter\", \"troops\", \"hughes\", \"premier\", \"communism\", \"democrats\", \"communists\", \"election\", \"aug\", \"welfare\", \"gen\", \"republicans\", \"katanga\", \"bombs\", \"police\", \"communist\", \"democratic\", \"rayburn\", \"georgia\", \"leader\", \"russia\", \"vote\", \"political\", \"jury\", \"president\", \"committee\", \"mr\", \"mayor\", \"county\", \"party\", \"council\", \"war\", \"mrs\", \"city\", \"meeting\", \"said\", \"east\", \"west\", \"yesterday\", \"nations\", \"000\", \"military\", \"administration\", \"school\", \"state\", \"american\", \"government\", \"public\", \"united\", \"people\", \"week\", \"world\", \"house\", \"states\", \"members\", \"john\", \"national\", \"program\", \"man\", \"home\", \"recommendation\", \"motors\", \"thereof\", \"boats\", \"shelter\", \"feed\", \"cattle\", \"interference\", \"chemical\", \"assessment\", \"catastrophe\", \"boat\", \"tangible\", \"engine\", \"stockholders\", \"conversion\", \"electricity\", \"claim\", \"property\", \"stations\", \"ratio\", \"accommodate\", \"farmers\", \"concrete\", \"battery\", \"pound\", \"blocks\", \"claims\", \"manufactured\", \"63\", \"loans\", \"officer\", \"credit\", \"trust\", \"shall\", \"farm\", \"respect\", \"laws\", \"general\", \"act\", \"business\", \"department\", \"stock\", \"hearing\", \"daily\", \"john\", \"small\", \"government\", \"local\", \"class\", \"board\", \"tax\", \"united\", \"court\", \"policy\", \"service\", \"states\", \"report\", \"head\", \"secretary\", \"pale\", \"smiled\", \"hadn\", \"hair\", \"listening\", \"shoes\", \"loved\", \"hell\", \"sick\", \"liked\", \"mother\", \"stared\", \"heel\", \"wondered\", \"smile\", \"tongue\", \"laughed\", \"handsome\", \"silent\", \"looked\", \"strange\", \"lips\", \"till\", \"dad\", \"dear\", \"fountain\", \"puerto\", \"rico\", \"susan\", \"nodded\", \"wasn\", \"couldn\", \"love\", \"sat\", \"didn\", \"eyes\", \"baby\", \"woman\", \"thought\", \"stood\", \"yes\", \"child\", \"wouldn\", \"knew\", \"alexander\", \"went\", \"father\", \"voice\", \"bed\", \"door\", \"felt\", \"girl\", \"got\", \"know\", \"god\", \"little\", \"said\", \"young\", \"came\", \"ll\", \"away\", \"old\", \"man\", \"boy\", \"come\", \"going\", \"don\", \"let\", \"thing\", \"good\", \"life\", \"way\", \"look\", \"day\", \"asked\", \"people\", \"think\", \"night\"], \"Freq\": [793.0, 274.0, 197.0, 90.0, 207.0, 301.0, 493.0, 334.0, 123.0, 91.0, 155.0, 202.0, 128.0, 165.0, 123.0, 176.0, 165.0, 138.0, 96.0, 298.0, 236.0, 173.0, 207.0, 127.0, 55.0, 175.0, 280.0, 251.0, 131.0, 106.0, 46.9006173827951, 38.320191958750904, 32.601476249193006, 27.831525211454075, 25.92923367532795, 24.965651021853596, 21.162778832210478, 21.155429552015487, 19.254389784454844, 21.94793794298798, 18.280628736886943, 24.50491087556357, 15.442227275155336, 59.068237809240934, 15.429350272859379, 15.42977593570405, 38.0669247020191, 14.482031649232399, 35.292612040869635, 13.53562175950474, 53.26575195711278, 13.516253246233772, 12.58274445157486, 12.582358303937445, 12.582206179585166, 12.58008370505632, 12.579537857165427, 12.57734493448933, 12.576735754565973, 18.818378791886843, 48.98101977616401, 28.516446892422916, 34.18539770126024, 30.685701114865786, 20.296779363909547, 70.9271039122296, 76.42101603091828, 21.859355384655036, 24.06431749341118, 55.75253195087143, 55.41576812531265, 23.176638782391752, 32.955093154491685, 45.295959244571236, 32.17680895813646, 45.65789699624378, 44.08800327041028, 26.85607118011567, 30.02904916398848, 68.24415837156755, 61.47380111399628, 44.51582762921503, 45.17975584948403, 41.74182728863287, 61.560506185939516, 53.24851828557135, 99.24831428743178, 73.15486854806144, 49.90191872032135, 77.17424013092692, 71.06844436634599, 67.45444118433446, 54.79575807121889, 73.85743200897524, 66.50953757158277, 58.07101352684915, 68.45390871103837, 64.72256586429427, 48.05347075701551, 59.56748789008665, 57.07727059133179, 52.34860935735964, 52.82355751026601, 50.68205733687957, 49.369099019370836, 51.04430480221168, 28.305925725072264, 24.424933130164675, 24.41658254142836, 20.544465245197618, 19.577791969757804, 51.22952404642767, 15.703268535408867, 34.959107438323095, 16.499023102025333, 39.41961363149072, 105.71631917016893, 10.843150222887708, 10.843191961881823, 15.366030813907834, 10.837350150282624, 18.966346585386255, 8.90980287447344, 27.529009854898256, 8.858011680160216, 14.16026488044858, 12.377114435979632, 7.945091103923949, 7.944499146179777, 26.498449187642603, 24.60188727042808, 6.979551908378115, 6.977825659837746, 6.9617833148601, 35.52040249074189, 16.49984135869283, 77.51764253547437, 34.38058053559391, 38.77975209703727, 33.56659824328077, 171.06640326090806, 47.605819797723875, 40.70073357657609, 50.99879715314259, 50.77495370210944, 65.62205389309965, 69.98216493822879, 23.882312072832633, 22.2263090661445, 67.03066445066656, 43.608897498621076, 90.07056610828074, 63.127240535932536, 76.72074181207171, 42.11578377574347, 269.28745480859703, 75.01508583602237, 137.83429234631913, 58.362024780288515, 85.2562882919492, 78.64673686400171, 55.99466247540439, 88.4943178458745, 132.01586015801175, 59.776284645260816, 153.87030346473816, 66.51941709764466, 61.04438701227834, 68.15034258267065, 75.45918600647998, 71.6356213776099, 89.85286077004788, 100.30627971604525, 89.75509366471252, 91.20163096512321, 79.78955096407252, 66.59945264744277, 70.94711198307866, 66.17064226428639, 76.07309911923757, 73.78709559466964, 70.7383157598595, 68.8294002613048, 67.17454331593038, 130.55798857848046, 78.28316230995783, 80.1553495573066, 72.4276661796701, 49.97545822375621, 64.32886075217475, 43.14414848886361, 39.23921138129501, 37.28723205542038, 37.285162291857965, 33.3811735305398, 50.481868098471814, 29.478116066043505, 29.472070136194176, 27.52447842099429, 26.54656756146543, 24.59810024118517, 24.597463627420424, 28.36635933159849, 23.621534418463437, 23.621514707273214, 53.85156123257413, 22.634993277198767, 28.289427952000718, 21.667875350260566, 19.717225368697097, 19.715333295353993, 18.739298862850838, 44.95663417155409, 71.0888378692164, 58.672635649739895, 44.72731796352684, 41.01186311970627, 40.96117807002639, 42.75494355800685, 53.26004849556486, 77.66451404222023, 45.99694390738246, 256.68330871272195, 100.13108356008054, 299.586936962124, 41.66774583018286, 89.5495065070421, 88.25087010038459, 63.246503143009676, 111.5499723025545, 196.81181942003516, 146.64337665669575, 77.42239713159225, 381.8436104074144, 75.45054972154993, 81.92645439054775, 54.33565818383028, 64.87072201972035, 157.17128924834805, 86.05398991963605, 90.41446202544792, 105.34110373746253, 200.51010750114847, 135.26728212749583, 136.36311808125217, 113.67484428167836, 143.1304642852175, 131.3935718106034, 102.30539146482393, 118.03946916863141, 110.80907382496774, 127.51280528548101, 85.81571642208272, 87.78699173276547, 90.85601777434412, 90.58171583241368, 91.80600480969768, 85.06904723383839, 17.178192154389023, 41.106603251950155, 10.842304100261758, 34.16341019762001, 51.609310092867304, 83.87131629281107, 16.96191039003659, 28.586241537893297, 21.5594370244136, 13.892065761848725, 4.315888104638169, 31.35339840756044, 10.91400944118669, 20.294080229061954, 14.366234414437322, 9.085753040664017, 8.38457750796182, 29.567935466298568, 63.9826716559265, 39.570851043849544, 13.31022692981629, 4.413536328938479, 11.81210141429004, 15.434840879722795, 8.54201531896576, 16.21443796584539, 13.14185929291351, 18.565904999624166, 5.3763949289377395, 4.116116220725941, 18.870983705823836, 31.161953588732015, 23.437239531389512, 22.32431541968084, 62.11460505548829, 21.887162140461808, 25.33499643395674, 25.163041987260648, 68.32523030675087, 48.387853017336184, 65.54843990630603, 49.31128643694993, 31.93006553605379, 24.895635019269946, 25.299699763187775, 45.59237115011311, 50.87805430915398, 58.51478612186601, 39.12774388572384, 33.69960885418441, 42.051782087077996, 42.1598872290873, 51.06259229252221, 32.487661084421994, 30.139180521217643, 37.846989716115814, 43.12969271027658, 26.447916361014876, 27.322591717134, 26.950204279630878, 26.22397208481552, 26.22312567603624, 30.80772071427711, 34.295855240737346, 18.509420935971924, 18.506600131978935, 17.546129234809705, 15.616621370254826, 15.616011782791324, 14.652382045426359, 91.65336955100096, 14.640724595512133, 14.616591009698482, 13.68775157135722, 13.684077201385557, 13.681568956662662, 12.722342624999996, 15.422502005302233, 11.760994549566398, 79.59653259438069, 15.325600615889101, 10.798802478098878, 10.795549117390278, 10.790566768128175, 10.790934402604208, 10.789337946981787, 18.783165780481767, 18.78293447851752, 25.06675001505227, 9.830940284581835, 53.62872441597585, 49.06544191651011, 55.02546570060437, 34.66268537557113, 110.38470093345866, 86.73179772095607, 32.365441884296864, 48.680004552649365, 115.39167767292922, 42.39388244533552, 35.80365335589423, 56.41316348295642, 36.29765011663909, 72.90742519564203, 22.67958197780215, 99.56843254895279, 50.25735129316535, 40.323913913242656, 30.457366445791596, 53.59719233693801, 66.88466514659396, 37.331796870817996, 97.33786957462684, 118.8083772734435, 48.24708939329572, 140.0064701171483, 351.1814087885002, 87.76999255278093, 100.05581404206998, 99.33034907589844, 79.03211438555678, 131.78047747147568, 140.1614815935646, 58.44275600148464, 102.08235138043347, 81.2941747069869, 95.25692500726035, 74.88672246223318, 64.23603254057323, 119.13152483850318, 82.15193418702772, 100.34242550525872, 70.95953136733567, 99.4509327829326, 68.27580654754787, 87.43700324028734, 69.72423847300408, 68.29549271581854], \"Total\": [793.0, 274.0, 197.0, 90.0, 207.0, 301.0, 493.0, 334.0, 123.0, 91.0, 155.0, 202.0, 128.0, 165.0, 123.0, 176.0, 165.0, 138.0, 96.0, 298.0, 236.0, 173.0, 207.0, 127.0, 55.0, 175.0, 280.0, 251.0, 131.0, 106.0, 47.664353006940765, 39.08449237122965, 33.36452797395767, 28.59799292574639, 26.691310763606367, 25.738143827757206, 21.924682233249257, 21.924817581034766, 20.018096873595077, 22.880883003207956, 19.065014116945704, 25.709666737501706, 16.20480607985349, 61.98857273210533, 16.2043945177815, 16.204890857285132, 40.058256092780724, 15.251554624872274, 37.190657020473594, 14.298157118147191, 56.281680094990605, 14.298523621335818, 13.344838599195489, 13.344843079876604, 13.344839526551361, 13.344862169537448, 13.34489963308635, 13.34493983300161, 13.34493085285659, 20.028426619099207, 52.39496639966853, 30.519591447219, 37.209258085534756, 33.403609887572294, 21.93462883226285, 81.13903425209907, 88.77109117227323, 23.85932820531368, 26.714928402944288, 66.76963227458809, 67.14937119000095, 25.780980704131263, 39.08730858341471, 57.42506489349286, 38.23781272055417, 60.32370987759945, 59.39162196779935, 31.22397459161489, 36.354429713836126, 110.39094009275047, 97.00956488697172, 64.01392047945936, 66.04973567917797, 61.32170923668712, 117.88826919757683, 93.23398979469349, 264.66356215080447, 168.10523589933328, 87.32555005640005, 211.53755012135667, 188.18760422508666, 175.5483402691201, 122.2007891407095, 273.0193860145693, 231.7160030213158, 165.25679830440566, 306.47272024823724, 259.65113217108643, 97.21507091062868, 305.4362298384928, 255.6860895864656, 160.69766950684618, 219.23861867225733, 158.86513520952576, 138.31978127631666, 793.1980625140226, 29.066277834701705, 25.18821601278135, 25.187425430065435, 21.310435117003777, 20.34069916976685, 53.31198076178545, 16.463037130041357, 36.739509201689366, 17.419236908303652, 41.64436812342532, 112.46771652014799, 11.615241615072758, 11.615681174914698, 16.46535509565287, 11.61544419412024, 20.345024378932, 9.676277631083874, 30.047459886281395, 9.676528342844168, 15.489464864639453, 13.557378463277985, 8.707277541875031, 8.707210774621478, 29.05847769758125, 27.139427910242212, 7.737949798815927, 7.737860506987781, 7.737897552736263, 39.48906554376942, 18.395763377437312, 86.93927376656596, 38.5375641317511, 43.53651361214182, 37.81484319199784, 202.54345953668147, 54.28910391509659, 46.48914175778708, 58.87298783480297, 59.05703959312533, 78.44349545891573, 86.15500553198613, 27.144227761863956, 25.152542211811916, 85.44802420189767, 53.188983474870014, 120.69243365827336, 81.17637891156781, 102.74489704878299, 52.16582048185002, 493.6253757609689, 104.64650009037008, 234.1528129386352, 79.30368946288391, 130.8596511702118, 120.5022937217379, 76.67837338800311, 144.03487318157977, 255.6860895864656, 84.94096130626129, 334.6090934747779, 100.26523677017694, 95.46666258152905, 116.54560425433995, 146.63878947508462, 134.8793417769673, 215.7638644713463, 301.1143546521263, 259.65113217108643, 283.73773404804854, 204.71415487286407, 125.01374970261875, 162.35101162081634, 139.2006376068672, 274.29200396195114, 263.6274918132038, 207.05856226204023, 202.12176262528666, 219.23861867225733, 131.74744694320313, 79.04169172167221, 80.99298021478873, 73.18495123391357, 50.73405016321964, 65.35199596575517, 43.901194455368405, 39.99668095319414, 38.044422538977344, 38.04440829842823, 34.139894173383986, 51.7057190378287, 30.23542705121207, 30.234936155226144, 28.283157414718257, 27.307002651521774, 25.354806496723175, 25.35477513055236, 29.258280708044065, 24.378674890125286, 24.378670527073815, 55.59125568724589, 23.40173955469424, 29.257207622704772, 22.426402188945186, 20.474173695740927, 20.474115528689598, 19.49802272108341, 46.82195912250454, 74.13978785883921, 61.45750166124046, 46.813171618448, 42.91715478224247, 42.89665200500999, 44.86776847478228, 56.46518088300305, 83.75605493543983, 48.75710006406649, 298.0049253740506, 111.16954463300414, 388.9490573137731, 44.816808509298234, 105.29405630331756, 108.99175405552211, 73.93467892099113, 146.9469547297108, 305.4362298384928, 215.50738617088152, 98.07230972170917, 793.1980625140226, 95.30910098855259, 106.76662465986624, 62.315939205517715, 79.91343885868763, 283.73773404804854, 123.46464847790246, 133.10411493977068, 172.8735212681787, 493.6253757609689, 263.6274918132038, 274.29200396195114, 202.12176262528666, 301.1143546521263, 265.38333183383327, 188.83148033048116, 255.82115900738125, 231.7160030213158, 334.6090934747779, 141.93088414521418, 165.08586651214722, 215.7638644713463, 234.1528129386352, 280.605154918067, 264.66356215080447, 17.961121314259547, 43.12194604653787, 11.700075655514512, 36.90569403096446, 55.84550812393413, 90.90616061720665, 19.908789728466278, 34.476775955341246, 26.335730556568944, 17.282024361165348, 5.455801077999431, 39.998919013714726, 14.622982316965443, 28.351111087163336, 20.167632226739904, 12.810231836101433, 11.91158828458614, 42.153464388229644, 91.75925342616286, 56.932884793940104, 19.25248222932829, 6.423512756744738, 17.46977961226735, 22.959421024424962, 12.80310418800256, 24.696805696968823, 20.138418395357526, 28.522111995551263, 8.276134489824884, 6.44169569029795, 30.45689408364978, 51.78874668622486, 38.81757716815547, 37.017531806418766, 123.83285098432704, 37.98222346660774, 46.37530083851902, 47.48340486956467, 197.37841645995633, 128.93242528505561, 207.05856226204023, 155.23741712836463, 75.70146992373236, 50.324547065276974, 52.307589223058066, 165.08586651214722, 207.43867271064573, 274.29200396195114, 127.8294879471018, 97.21507091062868, 173.0630037424419, 176.23689119465018, 301.1143546521263, 106.26131396540343, 92.75698836431386, 204.71415487286407, 334.6090934747779, 88.16202157990384, 132.7324941720118, 121.30035314519736, 26.985718850138337, 26.985740113031266, 31.80415709050137, 35.65690093636526, 19.271959939038844, 19.271928781912692, 18.307756487420367, 16.37924151688864, 16.379216173724902, 15.415029062860151, 96.45899309675681, 15.41488098158035, 15.415264817709476, 14.450711190669255, 14.450763884434105, 14.450863632331535, 13.486300190496245, 16.37704240043871, 12.522303359993167, 84.88269641041103, 16.382867022120152, 11.558146294110996, 11.557949780159593, 11.55763912661067, 11.558162833175277, 11.55805158701477, 20.22402689990839, 20.224030361398192, 26.999578613815167, 10.593890181544449, 57.85865846732317, 53.030372288848476, 59.811568206963344, 37.61195313858664, 123.42688522657309, 97.39117995857619, 35.69498617915272, 54.95247669899155, 138.69837865089423, 48.257599882234366, 40.48732403924653, 66.60739113340799, 41.49620421779666, 89.53364153849799, 25.073035349115074, 135.9457805429062, 62.782029946326624, 49.245742711821435, 35.637088790505295, 69.45977814175701, 90.79523483151368, 45.387863018856734, 145.50569633380397, 189.7042091810329, 62.82940619342617, 236.3007905865814, 793.1980625140226, 135.29814974627882, 161.03398411558888, 165.25679830440566, 122.54615448701335, 251.92407677669965, 280.605154918067, 81.83629935183657, 184.36189869363707, 132.47185180074933, 175.5483402691201, 121.46569418607592, 95.39493602342327, 306.47272024823724, 161.43605560562384, 273.0193860145693, 129.0991508258936, 301.1134031707986, 117.84170377486392, 265.38333183383327, 132.80996956479686, 150.04996102402913], \"Category\": [\"Default\", \"Default\", \"Default\", \"Default\", \"Default\", \"Default\", \"Default\", \"Default\", \"Default\", \"Default\", \"Default\", \"Default\", \"Default\", \"Default\", \"Default\", \"Default\", \"Default\", \"Default\", \"Default\", \"Default\", \"Default\", \"Default\", \"Default\", \"Default\", \"Default\", \"Default\", \"Default\", \"Default\", \"Default\", \"Default\", \"Topic1\", \"Topic1\", \"Topic1\", \"Topic1\", \"Topic1\", \"Topic1\", \"Topic1\", \"Topic1\", \"Topic1\", \"Topic1\", \"Topic1\", \"Topic1\", \"Topic1\", \"Topic1\", \"Topic1\", \"Topic1\", \"Topic1\", \"Topic1\", \"Topic1\", \"Topic1\", \"Topic1\", \"Topic1\", \"Topic1\", \"Topic1\", \"Topic1\", \"Topic1\", \"Topic1\", \"Topic1\", \"Topic1\", \"Topic1\", \"Topic1\", \"Topic1\", \"Topic1\", \"Topic1\", \"Topic1\", \"Topic1\", \"Topic1\", \"Topic1\", \"Topic1\", \"Topic1\", \"Topic1\", \"Topic1\", \"Topic1\", \"Topic1\", \"Topic1\", \"Topic1\", \"Topic1\", \"Topic1\", \"Topic1\", \"Topic1\", \"Topic1\", \"Topic1\", \"Topic1\", \"Topic1\", \"Topic1\", \"Topic1\", \"Topic1\", \"Topic1\", \"Topic1\", \"Topic1\", \"Topic1\", \"Topic1\", \"Topic1\", \"Topic1\", \"Topic1\", \"Topic1\", \"Topic1\", \"Topic1\", \"Topic1\", \"Topic1\", \"Topic1\", \"Topic1\", \"Topic1\", \"Topic1\", \"Topic1\", \"Topic1\", \"Topic2\", \"Topic2\", \"Topic2\", \"Topic2\", \"Topic2\", \"Topic2\", \"Topic2\", \"Topic2\", \"Topic2\", \"Topic2\", \"Topic2\", \"Topic2\", \"Topic2\", \"Topic2\", \"Topic2\", \"Topic2\", \"Topic2\", \"Topic2\", \"Topic2\", \"Topic2\", \"Topic2\", \"Topic2\", \"Topic2\", \"Topic2\", \"Topic2\", \"Topic2\", \"Topic2\", \"Topic2\", \"Topic2\", \"Topic2\", \"Topic2\", \"Topic2\", \"Topic2\", \"Topic2\", \"Topic2\", \"Topic2\", \"Topic2\", \"Topic2\", \"Topic2\", \"Topic2\", \"Topic2\", \"Topic2\", \"Topic2\", \"Topic2\", \"Topic2\", \"Topic2\", \"Topic2\", \"Topic2\", \"Topic2\", \"Topic2\", \"Topic2\", \"Topic2\", \"Topic2\", \"Topic2\", \"Topic2\", \"Topic2\", \"Topic2\", \"Topic2\", \"Topic2\", \"Topic2\", \"Topic2\", \"Topic2\", \"Topic2\", \"Topic2\", \"Topic2\", \"Topic2\", \"Topic2\", \"Topic2\", \"Topic2\", \"Topic2\", \"Topic2\", \"Topic2\", \"Topic2\", \"Topic2\", \"Topic2\", \"Topic2\", \"Topic2\", \"Topic2\", \"Topic3\", \"Topic3\", \"Topic3\", \"Topic3\", \"Topic3\", \"Topic3\", \"Topic3\", \"Topic3\", \"Topic3\", \"Topic3\", \"Topic3\", \"Topic3\", \"Topic3\", \"Topic3\", \"Topic3\", \"Topic3\", \"Topic3\", \"Topic3\", \"Topic3\", \"Topic3\", \"Topic3\", \"Topic3\", \"Topic3\", \"Topic3\", \"Topic3\", \"Topic3\", \"Topic3\", \"Topic3\", \"Topic3\", \"Topic3\", \"Topic3\", \"Topic3\", \"Topic3\", \"Topic3\", \"Topic3\", \"Topic3\", \"Topic3\", \"Topic3\", \"Topic3\", \"Topic3\", \"Topic3\", \"Topic3\", \"Topic3\", \"Topic3\", \"Topic3\", \"Topic3\", \"Topic3\", \"Topic3\", \"Topic3\", \"Topic3\", \"Topic3\", \"Topic3\", \"Topic3\", \"Topic3\", \"Topic3\", \"Topic3\", \"Topic3\", \"Topic3\", \"Topic3\", \"Topic3\", \"Topic3\", \"Topic3\", \"Topic3\", \"Topic3\", \"Topic3\", \"Topic3\", \"Topic3\", \"Topic3\", \"Topic3\", \"Topic3\", \"Topic3\", \"Topic3\", \"Topic3\", \"Topic3\", \"Topic4\", \"Topic4\", \"Topic4\", \"Topic4\", \"Topic4\", \"Topic4\", \"Topic4\", \"Topic4\", \"Topic4\", \"Topic4\", \"Topic4\", \"Topic4\", \"Topic4\", \"Topic4\", \"Topic4\", \"Topic4\", \"Topic4\", \"Topic4\", \"Topic4\", \"Topic4\", \"Topic4\", \"Topic4\", \"Topic4\", \"Topic4\", \"Topic4\", \"Topic4\", \"Topic4\", \"Topic4\", \"Topic4\", \"Topic4\", \"Topic4\", \"Topic4\", \"Topic4\", \"Topic4\", \"Topic4\", \"Topic4\", \"Topic4\", \"Topic4\", \"Topic4\", \"Topic4\", \"Topic4\", \"Topic4\", \"Topic4\", \"Topic4\", \"Topic4\", \"Topic4\", \"Topic4\", \"Topic4\", \"Topic4\", \"Topic4\", \"Topic4\", \"Topic4\", \"Topic4\", \"Topic4\", \"Topic4\", \"Topic4\", \"Topic4\", \"Topic4\", \"Topic4\", \"Topic4\", \"Topic5\", \"Topic5\", \"Topic5\", \"Topic5\", \"Topic5\", \"Topic5\", \"Topic5\", \"Topic5\", \"Topic5\", \"Topic5\", \"Topic5\", \"Topic5\", \"Topic5\", \"Topic5\", \"Topic5\", \"Topic5\", \"Topic5\", \"Topic5\", \"Topic5\", \"Topic5\", \"Topic5\", \"Topic5\", \"Topic5\", \"Topic5\", \"Topic5\", \"Topic5\", \"Topic5\", \"Topic5\", \"Topic5\", \"Topic5\", \"Topic5\", \"Topic5\", \"Topic5\", \"Topic5\", \"Topic5\", \"Topic5\", \"Topic5\", \"Topic5\", \"Topic5\", \"Topic5\", \"Topic5\", \"Topic5\", \"Topic5\", \"Topic5\", \"Topic5\", \"Topic5\", \"Topic5\", \"Topic5\", \"Topic5\", \"Topic5\", \"Topic5\", \"Topic5\", \"Topic5\", \"Topic5\", \"Topic5\", \"Topic5\", \"Topic5\", \"Topic5\", \"Topic5\", \"Topic5\", \"Topic5\", \"Topic5\", \"Topic5\", \"Topic5\", \"Topic5\", \"Topic5\", \"Topic5\", \"Topic5\", \"Topic5\", \"Topic5\", \"Topic5\", \"Topic5\", \"Topic5\", \"Topic5\", \"Topic5\", \"Topic5\", \"Topic5\", \"Topic5\"], \"logprob\": [30.0, 29.0, 28.0, 27.0, 26.0, 25.0, 24.0, 23.0, 22.0, 21.0, 20.0, 19.0, 18.0, 17.0, 16.0, 15.0, 14.0, 13.0, 12.0, 11.0, 10.0, 9.0, 8.0, 7.0, 6.0, 5.0, 4.0, 3.0, 2.0, 1.0, -6.1393, -6.3414, -6.503, -6.6612, -6.732, -6.7699, -6.9351, -6.9355, -7.0296, -6.8987, -7.0815, -6.7885, -7.2503, -5.9087, -7.2511, -7.2511, -6.348, -7.3145, -6.4237, -7.382, -6.0121, -7.3835, -7.455, -7.4551, -7.4551, -7.4553, -7.4553, -7.4555, -7.4555, -7.0525, -6.0959, -6.6369, -6.4556, -6.5636, -6.9769, -5.7257, -5.6511, -6.9027, -6.8066, -5.9665, -5.9725, -6.8442, -6.4922, -6.1742, -6.5161, -6.1662, -6.2012, -6.6969, -6.5852, -5.7643, -5.8688, -6.1915, -6.1767, -6.2559, -5.8674, -6.0124, -5.3897, -5.6948, -6.0773, -5.6413, -5.7237, -5.7759, -5.9838, -5.6852, -5.79, -5.9257, -5.7612, -5.8173, -6.1151, -5.9003, -5.943, -6.0294, -6.0204, -6.0618, -6.088, -6.0547, -6.9734, -7.1208, -7.1212, -7.2938, -7.342, -6.3801, -7.5626, -6.7623, -7.5131, -6.6422, -5.6557, -7.9329, -7.9329, -7.5843, -7.9334, -7.3738, -8.1293, -7.0012, -8.1351, -7.666, -7.8006, -8.2439, -8.244, -7.0394, -7.1136, -8.3735, -8.3737, -8.376, -6.7463, -7.5131, -5.9659, -6.7789, -6.6585, -6.8029, -5.1744, -6.4535, -6.6102, -6.3846, -6.389, -6.1325, -6.0682, -7.1433, -7.2152, -6.1113, -6.5412, -5.8158, -6.1713, -5.9763, -6.576, -4.7207, -5.9987, -5.3904, -6.2498, -5.8708, -5.9515, -6.2912, -5.8335, -5.4335, -6.2258, -5.2803, -6.1189, -6.2048, -6.0947, -5.9928, -6.0448, -5.8183, -5.7082, -5.8194, -5.8034, -5.937, -6.1177, -6.0545, -6.1242, -5.9847, -6.0153, -6.0575, -6.0848, -6.1091, -5.7478, -6.2592, -6.2356, -6.337, -6.708, -6.4556, -6.855, -6.9499, -7.0009, -7.001, -7.1116, -6.698, -7.2359, -7.2361, -7.3045, -7.3407, -7.4169, -7.4169, -7.2744, -7.4574, -7.4574, -6.6333, -7.5001, -7.2771, -7.5437, -7.6381, -7.6382, -7.6889, -6.8139, -6.3556, -6.5476, -6.819, -6.9057, -6.9069, -6.8641, -6.6444, -6.2672, -6.791, -5.0717, -6.0131, -4.9172, -6.8898, -6.1248, -6.1394, -6.4725, -5.9051, -5.3373, -5.6316, -6.2703, -4.6746, -6.2961, -6.2137, -6.6244, -6.4472, -5.5622, -6.1646, -6.1152, -5.9624, -5.3187, -5.7123, -5.7043, -5.8862, -5.6558, -5.7414, -5.9916, -5.8486, -5.9118, -5.7714, -6.1674, -6.1447, -6.1103, -6.1133, -6.0999, -6.1761, -6.2955, -5.423, -6.7557, -5.608, -5.1954, -4.7098, -6.3082, -5.7862, -6.0683, -6.5078, -7.6768, -5.6938, -6.7491, -6.1288, -6.4743, -6.9324, -7.0127, -5.7524, -4.9805, -5.461, -6.5506, -7.6545, -6.67, -6.4025, -6.9941, -6.3532, -6.5633, -6.2178, -7.4571, -7.7242, -6.2015, -5.6999, -5.9848, -6.0335, -5.0102, -6.0532, -5.9069, -5.9138, -4.9149, -5.2599, -4.9563, -5.241, -5.6756, -5.9244, -5.9083, -5.3194, -5.2097, -5.0699, -5.4723, -5.6216, -5.4002, -5.3977, -5.2061, -5.6583, -5.7333, -5.5056, -5.3749, -5.864, -5.8314, -5.8451, -6.7522, -6.7522, -6.5911, -6.4838, -7.1006, -7.1007, -7.154, -7.2705, -7.2706, -7.3343, -5.5008, -7.335, -7.3367, -7.4024, -7.4026, -7.4028, -7.4755, -7.283, -7.5541, -5.6419, -7.2893, -7.6394, -7.6397, -7.6402, -7.6401, -7.6403, -7.0859, -7.0859, -6.7973, -7.7333, -6.0368, -6.1257, -6.0111, -6.4732, -5.3149, -5.556, -6.5418, -6.1336, -5.2705, -6.2718, -6.4408, -5.9862, -6.4271, -5.7297, -6.8974, -5.418, -6.1017, -6.3219, -6.6025, -6.0374, -5.8159, -6.399, -5.4407, -5.2413, -6.1425, -5.0772, -4.1576, -5.5441, -5.4131, -5.4204, -5.649, -5.1377, -5.0761, -5.9508, -5.3931, -5.6208, -5.4623, -5.7029, -5.8563, -5.2386, -5.6103, -5.4103, -5.7567, -5.4192, -5.7953, -5.5479, -5.7743, -5.795], \"loglift\": [30.0, 29.0, 28.0, 27.0, 26.0, 25.0, 24.0, 23.0, 22.0, 21.0, 20.0, 19.0, 18.0, 17.0, 16.0, 15.0, 14.0, 13.0, 12.0, 11.0, 10.0, 9.0, 8.0, 7.0, 6.0, 5.0, 4.0, 3.0, 2.0, 1.0, 1.7298, 1.7262, 1.7229, 1.7188, 1.717, 1.7155, 1.7106, 1.7103, 1.7071, 1.7044, 1.704, 1.698, 1.6978, 1.6977, 1.697, 1.697, 1.695, 1.6942, 1.6936, 1.6912, 1.6909, 1.6897, 1.6872, 1.6872, 1.6871, 1.687, 1.6869, 1.6867, 1.6867, 1.6837, 1.6786, 1.6781, 1.6612, 1.6611, 1.6684, 1.6115, 1.5962, 1.6584, 1.6415, 1.5657, 1.5539, 1.6395, 1.5753, 1.5087, 1.5734, 1.4674, 1.448, 1.5953, 1.5548, 1.2651, 1.2898, 1.3827, 1.3662, 1.3614, 1.0963, 1.1858, 0.7652, 0.914, 1.1864, 0.7376, 0.7722, 0.7895, 0.9439, 0.4386, 0.4978, 0.7002, 0.247, 0.3568, 1.0414, 0.1114, 0.2464, 0.6244, 0.3228, 0.6035, 0.7157, -0.9974, 1.3904, 1.3862, 1.3858, 1.3803, 1.3787, 1.3771, 1.3697, 1.3672, 1.3626, 1.362, 1.355, 1.3481, 1.3481, 1.3478, 1.3476, 1.3468, 1.3344, 1.3294, 1.3285, 1.3272, 1.3258, 1.3253, 1.3253, 1.3247, 1.3188, 1.3138, 1.3135, 1.3112, 1.311, 1.3082, 1.3022, 1.3028, 1.3012, 1.2978, 1.248, 1.2856, 1.2839, 1.2733, 1.2658, 1.2385, 1.209, 1.2889, 1.2932, 1.1742, 1.2183, 1.1243, 1.1655, 1.1248, 1.2029, 0.8109, 1.084, 0.887, 1.1103, 0.9885, 0.9902, 1.1026, 0.9298, 0.7559, 1.0656, 0.6401, 1.0066, 0.9697, 0.8804, 0.7525, 0.7841, 0.5409, 0.3177, 0.3547, 0.2819, 0.4747, 0.7872, 0.5891, 0.6732, 0.1344, 0.1436, 0.3429, 0.3397, 0.2341, 1.1047, 1.1041, 1.1034, 1.1034, 1.0987, 1.098, 1.0964, 1.0947, 1.0937, 1.0936, 1.0913, 1.0898, 1.0884, 1.0882, 1.0866, 1.0855, 1.0835, 1.0835, 1.0828, 1.0822, 1.0822, 1.082, 1.0805, 1.0802, 1.0794, 1.0761, 1.076, 1.0741, 1.0731, 1.0718, 1.0674, 1.0682, 1.0684, 1.0676, 1.0656, 1.0554, 1.0383, 1.0555, 0.9645, 1.0092, 0.8527, 1.0409, 0.9518, 0.9027, 0.9576, 0.8382, 0.6743, 0.7288, 0.8774, 0.3827, 0.8801, 0.849, 0.9768, 0.9052, 0.5231, 0.7528, 0.7271, 0.6184, 0.2129, 0.4465, 0.4149, 0.5383, 0.3701, 0.4108, 0.5009, 0.3403, 0.3761, 0.149, 0.6107, 0.4822, 0.2489, 0.1641, -0.0035, -0.0212, 2.5497, 2.5464, 2.5181, 2.517, 2.5153, 2.5137, 2.434, 2.4069, 2.3941, 2.3759, 2.3599, 2.3507, 2.3017, 2.2599, 2.255, 2.2507, 2.2431, 2.2396, 2.2337, 2.2304, 2.2251, 2.2189, 2.2029, 2.1971, 2.1895, 2.1735, 2.1674, 2.1649, 2.1629, 2.1463, 2.1155, 2.0863, 2.0897, 2.0885, 1.9043, 2.043, 1.9896, 1.9592, 1.5334, 1.6142, 1.444, 1.4474, 1.731, 1.8904, 1.8679, 1.3075, 1.1888, 1.0493, 1.4104, 1.5348, 1.1795, 1.1639, 0.8198, 1.4092, 1.4701, 0.9062, 0.5455, 1.3902, 1.0136, 1.0899, 1.6859, 1.6858, 1.6827, 1.6756, 1.6741, 1.674, 1.672, 1.6668, 1.6668, 1.6638, 1.6634, 1.663, 1.6613, 1.6603, 1.66, 1.6598, 1.6562, 1.6545, 1.6518, 1.6502, 1.6478, 1.6466, 1.6463, 1.6458, 1.6458, 1.6457, 1.6406, 1.6406, 1.6402, 1.6398, 1.6386, 1.6368, 1.6311, 1.6328, 1.6028, 1.5986, 1.6166, 1.5933, 1.5305, 1.585, 1.5916, 1.5484, 1.5807, 1.5091, 1.6142, 1.4031, 1.492, 1.5146, 1.5574, 1.4553, 1.4089, 1.5191, 1.3125, 1.2466, 1.4504, 1.1911, 0.8997, 1.2817, 1.2386, 1.2055, 1.2759, 1.0665, 1.0204, 1.3778, 1.1234, 1.2262, 1.1032, 1.2309, 1.319, 0.7696, 1.039, 0.7136, 1.116, 0.6067, 1.1687, 0.6043, 1.0701, 0.9274]}, \"token.table\": {\"Topic\": [1, 2, 3, 4, 5, 1, 2, 3, 2, 4, 2, 3, 3, 4, 2, 3, 4, 5, 2, 3, 4, 2, 3, 4, 3, 5, 1, 1, 2, 3, 4, 5, 1, 2, 3, 4, 5, 1, 2, 3, 4, 5, 3, 4, 3, 1, 2, 3, 4, 5, 1, 2, 3, 5, 3, 5, 1, 5, 1, 1, 1, 4, 1, 3, 5, 3, 1, 2, 3, 4, 5, 1, 2, 3, 4, 5, 1, 3, 4, 1, 2, 3, 4, 5, 1, 2, 4, 5, 3, 4, 5, 1, 3, 3, 1, 3, 5, 1, 2, 1, 2, 3, 4, 5, 1, 2, 3, 5, 3, 2, 4, 2, 4, 5, 1, 2, 3, 5, 1, 3, 2, 3, 4, 1, 3, 1, 2, 3, 5, 1, 2, 3, 4, 5, 3, 4, 5, 2, 3, 4, 5, 1, 2, 3, 4, 5, 1, 3, 4, 5, 1, 2, 3, 5, 1, 1, 2, 3, 4, 5, 1, 2, 3, 4, 5, 1, 2, 3, 3, 2, 3, 5, 3, 1, 2, 3, 4, 5, 2, 3, 4, 5, 3, 1, 3, 4, 1, 2, 5, 1, 2, 3, 1, 3, 5, 1, 2, 3, 4, 2, 3, 1, 3, 4, 5, 2, 3, 2, 3, 2, 3, 4, 5, 3, 2, 1, 2, 3, 5, 5, 2, 3, 4, 1, 2, 3, 4, 5, 5, 2, 3, 3, 1, 2, 3, 4, 2, 2, 1, 2, 3, 4, 1, 2, 3, 5, 1, 2, 3, 4, 5, 1, 2, 3, 5, 1, 2, 3, 1, 2, 3, 4, 2, 1, 3, 2, 3, 4, 2, 1, 2, 3, 4, 5, 1, 2, 3, 2, 2, 5, 2, 3, 1, 2, 3, 5, 2, 3, 1, 3, 4, 5, 3, 4, 2, 3, 5, 1, 1, 4, 5, 2, 3, 4, 5, 1, 4, 2, 3, 2, 5, 1, 3, 2, 5, 1, 3, 5, 1, 1, 2, 3, 4, 5, 1, 5, 3, 1, 2, 3, 4, 5, 2, 3, 2, 3, 5, 3, 5, 1, 2, 3, 5, 1, 2, 1, 2, 3, 4, 5, 1, 3, 5, 2, 3, 4, 5, 1, 3, 5, 5, 1, 5, 5, 1, 2, 3, 4, 5, 3, 4, 5, 5, 5, 1, 2, 3, 4, 5, 1, 3, 5, 1, 1, 5, 1, 1, 2, 3, 4, 5, 1, 1, 2, 3, 4, 5, 3, 1, 2, 1, 2, 3, 4, 5, 2, 1, 2, 4, 2, 3, 1, 2, 3, 4, 1, 2, 3, 4, 5, 1, 3, 4, 1, 2, 2, 1, 2, 3, 4, 5, 1, 2, 3, 4, 5, 1, 2, 3, 4, 3, 5, 3, 2, 3, 3, 1, 3, 4, 5, 1, 2, 3, 4, 5, 2, 3, 5, 2, 3, 4, 1, 3, 1, 2, 3, 5, 1, 2, 3, 4, 5, 1, 1, 2, 3, 4, 5, 2, 5, 1, 2, 3, 4, 5, 5, 5, 5, 1, 2, 3, 4, 5, 1, 2, 3, 5, 2, 3, 4, 1, 2, 3, 4, 2, 1, 2, 3, 4, 5, 1, 3, 5, 2, 3, 5, 5, 2, 3, 1, 2, 3, 5, 1, 2, 3, 4, 2, 4, 1, 3, 1, 2, 3, 4, 1, 2, 3, 4, 5, 1, 2, 3, 5, 1, 2, 3, 4, 3, 3, 5, 2, 4, 1, 2, 3, 4, 5, 1, 3, 5, 2, 1, 2, 3, 4, 5, 2, 3, 1, 3, 4, 5, 5, 3, 2, 3, 4, 5, 1, 2, 3, 5, 2, 3, 4, 1, 1, 5, 1, 2, 1, 3, 5, 1, 2, 3, 4, 5, 1, 2, 3, 4, 5, 1, 2, 3, 1, 2, 4, 1, 1, 1, 1, 2, 3, 4, 5, 2, 3, 4, 1, 2, 3, 4, 5, 1, 4, 1, 2, 3, 4, 5, 1, 1, 2, 4, 5, 2, 3, 1, 2, 3, 4, 2, 3, 4, 2, 5, 1, 4, 3, 1, 2, 3, 4, 5, 2, 1, 2, 3, 4, 1, 2, 3, 1, 2, 3, 2, 3, 4, 5, 1, 2, 3, 4, 2, 2, 3, 2, 5, 2, 4, 3, 5, 4, 2, 4, 1, 2, 3, 4, 5, 3, 3, 1, 2, 3, 4, 2, 4, 1, 2, 3, 4, 5, 2, 3, 4, 5, 2, 5, 1, 2, 3, 4, 5, 1, 5, 1, 2, 3, 4, 5, 1, 2, 2, 3, 1, 1, 2, 3, 4, 5, 2, 3, 5, 1, 2, 3, 5, 1, 2, 4, 1, 2, 3, 4, 5, 2, 3, 4, 5, 3, 2, 3, 1, 2, 3, 4, 5, 2, 3, 4, 5, 1, 2, 3, 4, 5, 1, 2, 3, 4, 5, 3, 4, 5, 5, 1, 3, 5, 1, 2, 3, 1, 2, 3, 4, 5, 5, 5, 3, 1, 5, 1, 2, 3, 4, 5, 2, 3, 4, 5, 3, 4, 1, 2, 3, 4, 5, 3, 4, 3, 5, 5, 3, 5, 1, 2, 3, 4, 5, 3, 4, 2, 3, 4, 5, 1, 2, 2, 3, 4, 2, 4, 1, 2, 3, 4, 5, 1, 2, 3, 4, 5, 1, 2, 3, 4, 5, 5, 5, 3, 3, 4, 2, 3, 4, 5, 1, 2, 3, 4, 5, 1, 2, 3, 4, 1, 2, 3, 5, 2, 3, 4, 2, 3, 4, 5, 1, 3, 5, 1, 2, 3, 4, 5, 1, 2, 3, 4, 5, 3, 1, 2, 3, 5, 3, 1, 3, 5, 1, 2, 3, 4, 5, 1, 1, 2, 3, 5, 1, 2, 3, 5, 5, 1, 2, 3, 4, 5, 1, 2, 3, 4, 5, 2, 3, 5, 1, 1, 1, 3, 5, 1, 3, 5, 1, 2, 3, 5], \"Freq\": [0.08106077281954027, 0.3207187098512246, 0.5533278840290358, 0.0422925771232384, 0.0035243814269365335, 0.09934307392498423, 0.6495508679710507, 0.24453679735380732, 0.3104772557033804, 0.6209545114067608, 0.9318591357129594, 0.06656136683663996, 0.1556780593219796, 0.6227122372879184, 0.41106804500747385, 0.17838801953154526, 0.37228804076148575, 0.0387800042459881, 0.8662716446990172, 0.06794287409404057, 0.050957155570530425, 0.20284872494150494, 0.6761624164716831, 0.1202066518171881, 0.07976696766674433, 0.9173201281675599, 0.9741520128739296, 0.11379693291341875, 0.2806991011864329, 0.5120861981103844, 0.015172924388455833, 0.07586462194227916, 0.09547269211724323, 0.5114608506280887, 0.3068765103768532, 0.06137530207537064, 0.013638956016749032, 0.04242980065488937, 0.016971920261955747, 0.33943840523911495, 0.025457880392933622, 0.5770452889064954, 0.17359077485976337, 0.8100902826788958, 0.9828329191616161, 0.11618036111684804, 0.6555891805879283, 0.08298597222632004, 0.14937475000737604, 0.008298597222632003, 0.13872324326424743, 0.016320381560499697, 0.19584457872599637, 0.644655071639738, 0.08404541704941514, 0.8964844485270949, 0.951788328067804, 0.03226401112094251, 0.9722526172035446, 0.9741576821733933, 0.3124242325348169, 0.7029545232033381, 0.11224261396642787, 0.02806065349160697, 0.841819604748209, 0.9793120937505319, 0.35425157231932275, 0.18074059812210347, 0.21688871774652416, 0.04337774354930483, 0.20242946989675586, 0.3210270140942918, 0.19513406739064795, 0.15107153604437262, 0.012589294670364385, 0.3210270140942918, 0.2979379950405226, 0.04965633250675377, 0.645532322587799, 0.15601254696920835, 0.11556484960682101, 0.4795941258683072, 0.2426861841743241, 0.0115564849606821, 0.07500202690406127, 0.07500202690406127, 0.7750209446752998, 0.07500202690406127, 0.02709608981099188, 0.921267053573724, 0.05419217962198376, 0.9220712255888416, 0.04191232843585643, 0.9744577833246193, 0.20773177837517265, 0.07331709825006094, 0.7087319497505891, 0.17252676018258656, 0.8051248808520706, 0.014488654645459141, 0.34289815994253303, 0.24147757742431902, 0.3187504022001011, 0.08693192787275485, 0.16766647206976895, 0.06209869335917369, 0.14903686406201685, 0.6209869335917368, 0.9591397518837907, 0.18329114014667972, 0.7331645605867189, 0.05022907035730883, 0.8538941960742501, 0.05022907035730883, 0.5684622112247797, 0.128708425182969, 0.23596544616877646, 0.0643542125914845, 0.9441377745427905, 0.9899884793424476, 0.07594245375893467, 0.07594245375893467, 0.8353669913482814, 0.9486516520414792, 0.04992903431797259, 0.015013348863898593, 0.030026697727797185, 0.10509344204729015, 0.8407475363783212, 0.1345661534635529, 0.11136509252156102, 0.6821111916945612, 0.009280424376796752, 0.06496297063757726, 0.16605989807932808, 0.7116852774828346, 0.14233705549656692, 0.14024206905238645, 0.14024206905238645, 0.6661498279988356, 0.07012103452619323, 0.4937506042054646, 0.02057294184189436, 0.06171882552568308, 0.3497400113122041, 0.07200529644663026, 0.8750412258963167, 0.0862716701587918, 0.012324524308398827, 0.012324524308398827, 0.6159925800329846, 0.13588071618374659, 0.1721155738327457, 0.06341100088574841, 0.9615013545113423, 0.0479947206949054, 0.5359410477597769, 0.2639709638219797, 0.007999120115817566, 0.1439841620847162, 0.11933051327790047, 0.0650893708788548, 0.2440851407957055, 0.010848228479809133, 0.5532596524702658, 0.008995269372571658, 0.08995269372571657, 0.8995269372571657, 0.9569940311736047, 0.013488034277950478, 0.957650433734484, 0.013488034277950478, 0.9844671379165947, 0.028735500560686137, 0.4741357592513213, 0.3160905061675475, 0.13649362766325915, 0.05028712598120074, 0.9046323873891183, 0.1742204211397436, 0.6533265792740385, 0.1306653158548077, 0.9794722110286864, 0.07806259970891614, 0.1561251994178323, 0.7025633973802452, 0.9137510864054995, 0.026875031953102927, 0.026875031953102927, 0.013041486873226465, 0.730323264900682, 0.24778825059130283, 0.018857118229401636, 0.03771423645880327, 0.9239987932406802, 0.027050905328705917, 0.09467816865047071, 0.8521035178542363, 0.027050905328705917, 0.1424581835539694, 0.8547491013238163, 0.03764305042663335, 0.6305210946461086, 0.3011444034130668, 0.028232287819975013, 0.8851268726106336, 0.07376057271755279, 0.9110037355926961, 0.06073358237284641, 0.15456915237157515, 0.2060922031621002, 0.592515084091038, 0.025761525395262524, 0.9725476529892205, 0.9187787234136156, 0.6288039748562179, 0.05154130941444409, 0.26801480895510926, 0.05154130941444409, 0.9517514675357233, 0.17205916261253823, 0.34411832522507646, 0.47794211836816175, 0.1261983013703495, 0.21586551550191363, 0.262359626533095, 0.06642015861597343, 0.32877978514906847, 0.9517083431656467, 0.03254281326019708, 0.9600129911758138, 0.98446696172651, 0.006441745930190965, 0.33497078836993016, 0.34141253430012114, 0.3156455505793573, 0.9300856341371165, 0.9470150100301994, 0.03456048403642612, 0.8442632528898382, 0.11355587611968583, 0.004937212005203731, 0.040509812678344484, 0.008101962535668897, 0.04861177521401338, 0.8912158789235787, 0.3816612557959094, 0.028482183268351453, 0.028482183268351453, 0.017089309961010872, 0.5411614820986775, 0.07198410553220813, 0.0575872844257665, 0.10077774774509138, 0.7774283397478478, 0.9280434092104952, 0.02993688416808049, 0.02993688416808049, 0.0734452421373774, 0.11541395193016447, 0.7869133086147578, 0.010492177448196771, 0.904638495443077, 0.017988440585439528, 0.9713757916137346, 0.16790372133563788, 0.08395186066781894, 0.6716148853425515, 0.9528564190348712, 0.03527198623452802, 0.07054397246905604, 0.07054397246905604, 0.7054397246905605, 0.07054397246905604, 0.03441336502232659, 0.8947474905804914, 0.03441336502232659, 0.9301097325988856, 0.9038401340746304, 0.06456000957675931, 0.9211690122091775, 0.07369352097673419, 0.041071481028377904, 0.010267870257094476, 0.05133935128547237, 0.8933047123672193, 0.9566329982726378, 0.037515019540103445, 0.026328105854022867, 0.3159372702482744, 0.5792183287885031, 0.052656211708045735, 0.2862085333056509, 0.6869004799335621, 0.03185624933933854, 0.1592812466966927, 0.7964062334834635, 0.9256464688410131, 0.022000709153494283, 0.92402978444676, 0.055001772883735714, 0.055068969305254484, 0.19824828949891615, 0.011013793861050898, 0.7379241886904101, 0.8647201502415638, 0.12810668892467614, 0.9424926839428688, 0.0533486424873322, 0.8697654819600609, 0.054360342622503804, 0.8921305307952996, 0.07757656789524345, 0.9718741368081824, 0.9517175033513668, 0.8368679514662426, 0.10460849393328032, 0.05230424696664016, 0.9578186875390587, 0.8561345703469042, 0.05632464278598054, 0.022529857114392215, 0.011264928557196107, 0.04505971422878443, 0.9502093122757884, 0.03276583835433753, 0.9809865985032866, 0.035464870605141086, 0.18239076311215413, 0.42051203717524427, 0.3445158858785134, 0.015199230259346178, 0.023300705861651456, 0.9553289403277098, 0.022032321715268734, 0.15422625200688114, 0.8151959034649432, 0.2228255978880287, 0.7639734784732413, 0.052841414269113464, 0.052841414269113464, 0.2717558448125835, 0.611450650828313, 0.8983741089627972, 0.07486450908023311, 0.2218794545397752, 0.21535358822978182, 0.15988372459483802, 0.013051732619986777, 0.38828904544460663, 0.19243232880563882, 0.13745166343259915, 0.6666405676481059, 0.2770769796502798, 0.4958219635847112, 0.2150992342021909, 0.010937249196721571, 0.6849124155670556, 0.13045950772705822, 0.17938182312470505, 0.9747153465437529, 0.028045062070442977, 0.9535321103950611, 0.9159162950935621, 0.2636882567326921, 0.03013580076945052, 0.14314505365488997, 0.203416655193791, 0.3540956590410436, 0.29806527578963005, 0.49677545964938347, 0.1987101838597534, 0.9730614541741502, 0.9768462100947957, 0.24174573038717412, 0.30560309313095596, 0.30560309313095596, 0.013683720587953252, 0.1322759656835481, 0.7836299372662823, 0.13931198884733909, 0.05224199581775216, 0.9256513114741091, 0.9410965765066309, 0.02688847361447517, 0.9578246004474831, 0.37405980330450667, 0.06801087332809212, 0.32116245738265725, 0.02267029110936404, 0.21158938368739771, 0.9741549473904448, 0.2891470555610982, 0.012946883084825294, 0.47903467413853584, 0.017262510779767058, 0.2071501293572047, 0.9860063417652575, 0.07951482530703308, 0.8746630783773639, 0.1372853150693085, 0.583462589044561, 0.20592797260396273, 0.06864265753465425, 0.008580332191831781, 0.9469956892201615, 0.8190694719147261, 0.029784344433262767, 0.13402954994968244, 0.8991178365429501, 0.10577856900505295, 0.012609753805565688, 0.7313657207228099, 0.20175606088905101, 0.03782926141669707, 0.007414033808480264, 0.533810434210579, 0.19276487902048686, 0.17052277759504608, 0.09638243951024343, 0.02900503229464752, 0.11602012917859009, 0.8411459365447781, 0.048025701676452676, 0.9365011826908272, 0.918524737003427, 0.041427617692728944, 0.745697118469121, 0.11599732953964105, 0.04971314123127474, 0.04971314123127474, 0.1453788898290336, 0.030287268714382004, 0.5330559293731233, 0.2786428721723144, 0.0181723612286292, 0.7029720983022669, 0.01562160218449482, 0.2187024305829275, 0.04686480655348446, 0.9434523369838714, 0.041019666825385714, 0.9768431741031627, 0.007590279912073773, 0.9943266684816643, 0.9838088129603827, 0.055844930621414324, 0.1005208751185458, 0.02233797224856573, 0.8153359870726492, 0.11069865076087955, 0.047442278897519806, 0.1844977512681326, 0.03162818593167987, 0.6272923543116508, 0.9187716782342594, 0.98553141015042, 0.963941171142035, 0.0421199786639971, 0.40013979730797244, 0.5264997332999637, 0.023311842609143665, 0.9557855469748904, 0.7408452327477383, 0.01683739165335769, 0.1683739165335769, 0.06734956661343076, 0.3235890113377447, 0.006222865602648936, 0.2364688929006596, 0.01866859680794681, 0.4107091297748298, 0.9790896890107269, 0.08232777219122285, 0.07409499497210056, 0.19758665325893485, 0.024698331657366856, 0.6174582914341713, 0.881926369250135, 0.10755199625001646, 0.04955522463670321, 0.20441530162640076, 0.22919291394475236, 0.012388806159175803, 0.5079410525262079, 0.9730763360115816, 0.9517097050073352, 0.9858883092379235, 0.1565800939901768, 0.05924652205033717, 0.18197146058317845, 0.00846378886433388, 0.5924652205033717, 0.35096891985746376, 0.006051188273404547, 0.04235831791383183, 0.5990676390670502, 0.1969997329183014, 0.1641664440985845, 0.6238324875746211, 0.03911460556009653, 0.3285626867048108, 0.32073976559279155, 0.3050939233687529, 0.9046428264865403, 0.14717370237100852, 0.14717370237100852, 0.13168173370037603, 0.023237953005948712, 0.5499648878074529, 0.011780964110340728, 0.04712385644136291, 0.9424771288272582, 0.016719173731405, 0.050157521194215, 0.919554555227275, 0.9831898306255148, 0.9338892717019882, 0.04915206693168359, 0.08196570731822692, 0.08909316012850751, 0.32786282927290766, 0.49892169671964204, 0.03510906224012345, 0.7841023900294237, 0.05851510373353908, 0.11703020746707817, 0.24165871186106333, 0.6041467796526584, 0.06693917081082612, 0.9371483913515657, 0.009732843466914009, 0.7494289469523787, 0.22385539973902221, 0.019465686933828018, 0.020393116116824588, 0.050982790292061465, 0.7851349704977466, 0.03058967417523688, 0.11216213864253523, 0.07045682876017788, 0.30296436366876484, 0.6059287273375297, 0.02113704862805336, 0.016198968892362393, 0.2591835022777983, 0.696555662371583, 0.016198968892362393, 0.972547288951296, 0.04146839886652818, 0.9537731739301482, 0.023190048030781927, 0.9507919692620589, 0.05656267726149071, 0.08998607746146249, 0.7713092353839642, 0.010284123138452856, 0.0745598927537832, 0.19644035035308854, 0.644979150325974, 0.16042628612168897, 0.9854327180416848, 0.12050210568717744, 0.4171226735325373, 0.421757369905121, 0.03244287460808623, 0.009269392745167495, 0.17518955760064903, 0.8133800888601562, 0.19326896056544737, 0.2999001112222459, 0.05331557532839927, 0.45318239029139384, 0.9439403116921996, 0.9868209839771611, 0.05792764243120719, 0.28963821215603597, 0.5985856384558076, 0.05792764243120719, 0.18259469515005292, 0.06351119831306189, 0.23022809388484933, 0.5239673860827606, 0.8822560731592115, 0.025948708034094454, 0.07784612410228336, 0.9791220667782532, 0.9741526684057149, 0.9634725739339242, 0.9890743853999013, 0.9528265117236405, 0.055050036142582914, 0.807400530091216, 0.13762509035645729, 0.01130440250060021, 0.13565283000720252, 0.4936255758595425, 0.026376939168067156, 0.3278276725174061, 0.10970901136167124, 0.6682276146574522, 0.1496031973113699, 0.05984127892454796, 0.01994709297484932, 0.7625525700149552, 0.14919506804640428, 0.08288614891466904, 0.9352043405511181, 0.03817160573678033, 0.019085802868390164, 0.9179392097621816, 0.9791471645133364, 0.9256748213294927, 0.3772830856334119, 0.11690461808359243, 0.148787695742754, 0.0956492329774847, 0.26037846754981947, 0.8124890662796327, 0.15089082659478892, 0.03482095998341283, 0.061594272460057824, 0.7760878329967286, 0.08623198144408095, 0.02463770898402313, 0.04927541796804626, 0.9723968908369185, 0.03889587563347674, 0.6813047703714906, 0.030280212016510696, 0.15140106008255347, 0.015140106008255348, 0.10598074205778743, 0.9860618477954789, 0.8442638082787404, 0.05116750353204487, 0.025583751766022435, 0.07675125529806731, 0.021357500171737993, 0.9610875077282097, 0.02156171772357213, 0.19405545951214917, 0.4527960721950148, 0.32342576585358196, 0.047757741253253244, 0.9312759544384382, 0.023878870626626622, 0.8413699518855208, 0.15297635488827652, 0.3239285314125415, 0.647857062825083, 0.9860075615450892, 0.016778246177388132, 0.1006694770643288, 0.8624018535177501, 0.013422596941910506, 0.01006694770643288, 0.9470315267248184, 0.02354576601492469, 0.7063729804477407, 0.08241018105223641, 0.1883661281193975, 0.02135357648387661, 0.5893587109549945, 0.38863509200655433, 0.018419902482898088, 0.8841553191791083, 0.09209951241449044, 0.07628658406242138, 0.2070635853122866, 0.6974773399992812, 0.010898083437488769, 0.024737563808353954, 0.3413783805552845, 0.5640164548304701, 0.06926517866339106, 0.9832503707506158, 0.8841658790425635, 0.11052073488032044, 0.04944613676342221, 0.939476598505022, 0.25970677133690556, 0.6752376054759545, 0.9612679176444975, 0.04272301856197767, 0.9464887911259471, 0.9526529003928724, 0.02721865429693921, 0.011342752605708691, 0.2949115677484259, 0.37431083598838677, 0.2949115677484259, 0.022685505211417382, 0.9750809084793687, 0.9768403988953378, 0.07644785055488144, 0.7166985989520136, 0.2006756077065638, 0.00955598131936018, 0.9116447680965719, 0.07597039734138099, 0.043126404871508955, 0.043126404871508955, 0.23719522679329927, 0.539080060893862, 0.12937921461452687, 0.8971779567590118, 0.046009125987641626, 0.046009125987641626, 0.011502281496910407, 0.04944612830035649, 0.9394764377067732, 0.36400156830702624, 0.042545637854068, 0.21272818927034, 0.07563668951834311, 0.30254675807337245, 0.9118002475876285, 0.04559001237938142, 0.5259217089368753, 0.11027390671257062, 0.22054781342514124, 0.04241304104329639, 0.11027390671257062, 0.9486184299183293, 0.024963642892587613, 0.04457542837513951, 0.9583717100654995, 0.9741590756959435, 0.06429667747593419, 0.0025214383323895763, 0.4815947214864091, 0.010085753329558305, 0.44251242733437063, 0.026587292510850378, 0.026587292510850378, 0.9305552378797632, 0.0867686380769123, 0.150398972666648, 0.6073804665383862, 0.15618354853844216, 0.838704634012386, 0.13479181618056205, 0.029953736929013784, 0.4500789265498901, 0.16366506419996005, 0.26186410271993604, 0.016366506419996003, 0.11456554493997202, 0.2060999770550942, 0.5358599403432449, 0.22258797521950174, 0.03297599632881507, 0.9591553245263696, 0.019340220358765044, 0.9670110179382523, 0.019539440262370547, 0.39078880524741094, 0.36147964485385514, 0.1856246824925202, 0.039078880524741094, 0.6389665077891004, 0.251396658802269, 0.083798886267423, 0.02094972156685575, 0.4342517923933952, 0.2617408063741012, 0.17845964070961445, 0.02974327345160241, 0.09517847504512772, 0.008075401576004783, 0.2907144567361722, 0.12920642521607653, 0.5006748977122966, 0.06460321260803827, 0.07162617253160403, 0.9311402429108523, 0.9858899031337276, 0.976847721545233, 0.825208928764527, 0.1650417857529054, 0.9582901527795721, 0.15040708577895134, 0.8272389717842324, 0.037601771444737836, 0.173545267763143, 0.23139369035085736, 0.13980035458697632, 0.24585579599778593, 0.21211088282161922, 0.9688069165035869, 0.9634718147843105, 0.987739922495068, 0.9741594027809165, 0.9730856837573963, 0.02025827781763464, 0.5449476732943718, 0.40719138413445627, 0.024309933381161566, 0.002025827781763464, 0.4602385380527866, 0.38253592773218625, 0.1285081632225313, 0.02988561935407705, 0.29859720022143454, 0.702581647579846, 0.22456631313932401, 0.03962934937752777, 0.2641956625168518, 0.42271306002696285, 0.052839132503370356, 0.2479220140364613, 0.6941816393020916, 0.10361062324280053, 0.8703292352395244, 0.9155906582008506, 0.03703761507923384, 0.9259403769808459, 0.06942763081683244, 0.6109631511881255, 0.25688223402228005, 0.04165657849009947, 0.020828289245049734, 0.20515650877314054, 0.752240532168182, 0.3744959386914304, 0.351799215134374, 0.23831559734909205, 0.03404508533558458, 0.9416918597765405, 0.035535541878360014, 0.8635719018658153, 0.10159669433715475, 0.01693278238952579, 0.9633156388043366, 0.9401648607986094, 0.14675831426274494, 0.04193094693221284, 0.12579284079663852, 0.01048273673305321, 0.6708951509154054, 0.15812065968251185, 0.05270688656083728, 0.22588665668930263, 0.03764777611488377, 0.5270688656083728, 0.03604944808032018, 0.050469227312448246, 0.05767911692851228, 0.021629668848192108, 0.8291373058473641, 0.9517258864442056, 0.9688002292594611, 0.988757365447992, 0.3781991752776026, 0.5943129897219469, 0.33209974368551365, 0.47490263347028455, 0.16937086927961198, 0.01992598462113082, 0.22292960908506623, 0.5162580420917323, 0.14079764784319973, 0.06648777814817765, 0.05084359505448879, 0.022969225531212768, 0.895799795717298, 0.045938451062425535, 0.022969225531212768, 0.9491411756060587, 0.06091897156583751, 0.12183794313167502, 0.8122529542111668, 0.017710029160661316, 0.9386315455150498, 0.017710029160661316, 0.10888282802069531, 0.7621797961448672, 0.006805176751293457, 0.12249318152328223, 0.017283497863414342, 0.05185049359024302, 0.9333088846243743, 0.24022024630858224, 0.43732403815152154, 0.04311645446564297, 0.04927594796073482, 0.22790125931839855, 0.2710430240146064, 0.10255681989741863, 0.21976461406589706, 0.04029017924541446, 0.3662743567764951, 0.9666110806438097, 0.24360344959163405, 0.10591454330071046, 0.5401641708336233, 0.11121027046574597, 0.9570291314565124, 0.13240572769611614, 0.13240572769611614, 0.7355873760895341, 0.09366222854621176, 0.08429600569159058, 0.7680302740789364, 0.02809866856386353, 0.02809866856386353, 0.9741593350849026, 0.03639508390049875, 0.018197541950249373, 0.03639508390049875, 0.8916795555622193, 0.5725701122719183, 0.022902804490876734, 0.14886822919069878, 0.25193084939964405, 0.9688104492074912, 0.25033590054662624, 0.3466189392184056, 0.23878193590601274, 0.011553964640613519, 0.15405286187484693, 0.11726942414147379, 0.2501747715018107, 0.46125973495646355, 0.007817961609431585, 0.1602682129933475, 0.024098589710793972, 0.09639435884317589, 0.8675492295885829, 0.9713210155053544, 0.9740997821452452, 0.04939817702106696, 0.04939817702106696, 0.8891671863792053, 0.06418903495633783, 0.8665519719105608, 0.06418903495633783, 0.05912867260196977, 0.07391084075246221, 0.2143414381821404, 0.6504153986216675], \"Term\": [\"000\", \"000\", \"000\", \"000\", \"000\", \"1960\", \"1960\", \"1960\", \"63\", \"63\", \"academic\", \"academic\", \"accommodate\", \"accommodate\", \"act\", \"act\", \"act\", \"act\", \"activities\", \"activities\", \"activities\", \"administration\", \"administration\", \"administration\", \"alexander\", \"alexander\", \"amateur\", \"american\", \"american\", \"american\", \"american\", \"american\", \"area\", \"area\", \"area\", \"area\", \"area\", \"asked\", \"asked\", \"asked\", \"asked\", \"asked\", \"assessment\", \"assessment\", \"aug\", \"available\", \"available\", \"available\", \"available\", \"available\", \"away\", \"away\", \"away\", \"away\", \"baby\", \"baby\", \"ball\", \"ball\", \"baseball\", \"bat\", \"battery\", \"battery\", \"bed\", \"bed\", \"bed\", \"berlin\", \"best\", \"best\", \"best\", \"best\", \"best\", \"better\", \"better\", \"better\", \"better\", \"better\", \"blocks\", \"blocks\", \"blocks\", \"board\", \"board\", \"board\", \"board\", \"board\", \"boat\", \"boat\", \"boat\", \"boat\", \"boats\", \"boats\", \"boats\", \"bob\", \"bob\", \"bombs\", \"boy\", \"boy\", \"boy\", \"bridge\", \"bridge\", \"business\", \"business\", \"business\", \"business\", \"business\", \"came\", \"came\", \"came\", \"came\", \"castro\", \"catastrophe\", \"catastrophe\", \"cattle\", \"cattle\", \"cattle\", \"center\", \"center\", \"center\", \"center\", \"charlie\", \"charter\", \"chemical\", \"chemical\", \"chemical\", \"chest\", \"chest\", \"child\", \"child\", \"child\", \"child\", \"city\", \"city\", \"city\", \"city\", \"city\", \"claim\", \"claim\", \"claim\", \"claims\", \"claims\", \"claims\", \"claims\", \"class\", \"class\", \"class\", \"class\", \"class\", \"clay\", \"clay\", \"clay\", \"clay\", \"club\", \"club\", \"club\", \"club\", \"coach\", \"college\", \"college\", \"college\", \"college\", \"college\", \"come\", \"come\", \"come\", \"come\", \"come\", \"committee\", \"committee\", \"committee\", \"communism\", \"communist\", \"communist\", \"communist\", \"communists\", \"company\", \"company\", \"company\", \"company\", \"company\", \"comprehensive\", \"concrete\", \"concrete\", \"concrete\", \"congo\", \"conversion\", \"conversion\", \"conversion\", \"cooling\", \"cooling\", \"cooling\", \"corps\", \"corps\", \"corps\", \"couldn\", \"couldn\", \"couldn\", \"council\", \"council\", \"council\", \"council\", \"county\", \"county\", \"court\", \"court\", \"court\", \"court\", \"coverage\", \"coverage\", \"creative\", \"creative\", \"credit\", \"credit\", \"credit\", \"credit\", \"cuba\", \"curriculum\", \"cut\", \"cut\", \"cut\", \"cut\", \"dad\", \"daily\", \"daily\", \"daily\", \"day\", \"day\", \"day\", \"day\", \"day\", \"dear\", \"democratic\", \"democratic\", \"democrats\", \"department\", \"department\", \"department\", \"department\", \"depreciation\", \"designers\", \"development\", \"development\", \"development\", \"development\", \"didn\", \"didn\", \"didn\", \"didn\", \"don\", \"don\", \"don\", \"don\", \"don\", \"door\", \"door\", \"door\", \"door\", \"drill\", \"drill\", \"drill\", \"east\", \"east\", \"east\", \"east\", \"educated\", \"election\", \"election\", \"electricity\", \"electricity\", \"electricity\", \"employee\", \"engine\", \"engine\", \"engine\", \"engine\", \"engine\", \"engineers\", \"engineers\", \"engineers\", \"evaluation\", \"exceed\", \"exceed\", \"expenditures\", \"expenditures\", \"eyes\", \"eyes\", \"eyes\", \"eyes\", \"faculty\", \"faculty\", \"farm\", \"farm\", \"farm\", \"farm\", \"farmers\", \"farmers\", \"father\", \"father\", \"father\", \"favorite\", \"feed\", \"feed\", \"feed\", \"felt\", \"felt\", \"felt\", \"felt\", \"fig\", \"fig\", \"fiscal\", \"fiscal\", \"fishing\", \"fishing\", \"football\", \"football\", \"forests\", \"fountain\", \"frame\", \"frame\", \"frame\", \"gallery\", \"game\", \"game\", \"game\", \"game\", \"game\", \"games\", \"games\", \"gen\", \"general\", \"general\", \"general\", \"general\", \"general\", \"georgia\", \"georgia\", \"girl\", \"girl\", \"girl\", \"god\", \"god\", \"going\", \"going\", \"going\", \"going\", \"golf\", \"golf\", \"good\", \"good\", \"good\", \"good\", \"good\", \"got\", \"got\", \"got\", \"government\", \"government\", \"government\", \"government\", \"green\", \"green\", \"green\", \"hadn\", \"hair\", \"hair\", \"handsome\", \"head\", \"head\", \"head\", \"head\", \"head\", \"hearing\", \"hearing\", \"hearing\", \"heel\", \"hell\", \"high\", \"high\", \"high\", \"high\", \"high\", \"hit\", \"hit\", \"hit\", \"hits\", \"hole\", \"hole\", \"holes\", \"home\", \"home\", \"home\", \"home\", \"home\", \"homer\", \"house\", \"house\", \"house\", \"house\", \"house\", \"hughes\", \"import\", \"import\", \"important\", \"important\", \"important\", \"important\", \"important\", \"imports\", \"inch\", \"inch\", \"inch\", \"india\", \"india\", \"industrial\", \"industrial\", \"industrial\", \"industrial\", \"interest\", \"interest\", \"interest\", \"interest\", \"interest\", \"interference\", \"interference\", \"interference\", \"interior\", \"interior\", \"inventory\", \"island\", \"island\", \"island\", \"island\", \"island\", \"john\", \"john\", \"john\", \"john\", \"john\", \"junior\", \"junior\", \"junior\", \"junior\", \"jury\", \"jury\", \"katanga\", \"kennedy\", \"kennedy\", \"khrushchev\", \"knew\", \"knew\", \"knew\", \"knew\", \"know\", \"know\", \"know\", \"know\", \"know\", \"laboratories\", \"laos\", \"laughed\", \"laws\", \"laws\", \"laws\", \"leader\", \"leader\", \"league\", \"league\", \"league\", \"league\", \"left\", \"left\", \"left\", \"left\", \"left\", \"leg\", \"let\", \"let\", \"let\", \"let\", \"let\", \"library\", \"library\", \"life\", \"life\", \"life\", \"life\", \"life\", \"liked\", \"lips\", \"listening\", \"little\", \"little\", \"little\", \"little\", \"little\", \"ll\", \"ll\", \"ll\", \"ll\", \"loans\", \"loans\", \"loans\", \"local\", \"local\", \"local\", \"local\", \"locations\", \"look\", \"look\", \"look\", \"look\", \"look\", \"looked\", \"looked\", \"looked\", \"love\", \"love\", \"love\", \"loved\", \"maintain\", \"maintain\", \"man\", \"man\", \"man\", \"man\", \"management\", \"management\", \"management\", \"management\", \"manufactured\", \"manufactured\", \"mayor\", \"mayor\", \"medical\", \"medical\", \"medical\", \"medical\", \"meeting\", \"meeting\", \"meeting\", \"meeting\", \"meeting\", \"members\", \"members\", \"members\", \"members\", \"military\", \"military\", \"military\", \"military\", \"moscow\", \"mother\", \"mother\", \"motors\", \"motors\", \"mr\", \"mr\", \"mr\", \"mr\", \"mr\", \"mrs\", \"mrs\", \"mrs\", \"musical\", \"national\", \"national\", \"national\", \"national\", \"national\", \"nations\", \"nations\", \"night\", \"night\", \"night\", \"night\", \"nodded\", \"nuclear\", \"officer\", \"officer\", \"officer\", \"officer\", \"old\", \"old\", \"old\", \"old\", \"organizations\", \"organizations\", \"organizations\", \"paint\", \"paintings\", \"pale\", \"panels\", \"participation\", \"party\", \"party\", \"party\", \"people\", \"people\", \"people\", \"people\", \"people\", \"period\", \"period\", \"period\", \"period\", \"period\", \"piece\", \"piece\", \"piece\", \"pieces\", \"pieces\", \"pieces\", \"pitcher\", \"pitching\", \"pittsburgh\", \"place\", \"place\", \"place\", \"place\", \"place\", \"planning\", \"planning\", \"planning\", \"plant\", \"plant\", \"plant\", \"plant\", \"plant\", \"plastic\", \"plastic\", \"play\", \"play\", \"play\", \"play\", \"play\", \"player\", \"playing\", \"playing\", \"playing\", \"playing\", \"police\", \"police\", \"policy\", \"policy\", \"policy\", \"policy\", \"political\", \"political\", \"political\", \"pool\", \"pool\", \"pound\", \"pound\", \"premier\", \"president\", \"president\", \"president\", \"president\", \"president\", \"producers\", \"production\", \"production\", \"production\", \"production\", \"program\", \"program\", \"program\", \"projects\", \"projects\", \"projects\", \"property\", \"property\", \"property\", \"property\", \"public\", \"public\", \"public\", \"public\", \"publications\", \"published\", \"published\", \"puerto\", \"puerto\", \"ratio\", \"ratio\", \"rayburn\", \"rayburn\", \"recommendation\", \"recreation\", \"recreation\", \"report\", \"report\", \"report\", \"report\", \"report\", \"republican\", \"republicans\", \"research\", \"research\", \"research\", \"research\", \"resources\", \"resources\", \"respect\", \"respect\", \"respect\", \"respect\", \"respect\", \"rhode\", \"rhode\", \"rhode\", \"rhode\", \"rico\", \"rico\", \"right\", \"right\", \"right\", \"right\", \"right\", \"roy\", \"roy\", \"run\", \"run\", \"run\", \"run\", \"run\", \"runs\", \"runs\", \"russia\", \"russia\", \"ruth\", \"said\", \"said\", \"said\", \"said\", \"said\", \"sat\", \"sat\", \"sat\", \"school\", \"school\", \"school\", \"school\", \"season\", \"season\", \"season\", \"second\", \"second\", \"second\", \"second\", \"second\", \"secretary\", \"secretary\", \"secretary\", \"secretary\", \"sen\", \"senate\", \"senate\", \"service\", \"service\", \"service\", \"service\", \"service\", \"services\", \"services\", \"services\", \"services\", \"set\", \"set\", \"set\", \"set\", \"set\", \"shall\", \"shall\", \"shall\", \"shall\", \"shall\", \"shelter\", \"shelter\", \"shoes\", \"sick\", \"signs\", \"signs\", \"silent\", \"site\", \"site\", \"site\", \"small\", \"small\", \"small\", \"small\", \"small\", \"smile\", \"smiled\", \"soviet\", \"stadium\", \"stared\", \"state\", \"state\", \"state\", \"state\", \"state\", \"states\", \"states\", \"states\", \"states\", \"stations\", \"stations\", \"stock\", \"stock\", \"stock\", \"stock\", \"stock\", \"stockholders\", \"stockholders\", \"stood\", \"stood\", \"strange\", \"susan\", \"susan\", \"system\", \"system\", \"system\", \"system\", \"system\", \"tangible\", \"tangible\", \"tax\", \"tax\", \"tax\", \"tax\", \"team\", \"team\", \"technical\", \"technical\", \"technical\", \"textile\", \"thereof\", \"thing\", \"thing\", \"thing\", \"thing\", \"thing\", \"think\", \"think\", \"think\", \"think\", \"think\", \"thought\", \"thought\", \"thought\", \"thought\", \"thought\", \"till\", \"tongue\", \"troops\", \"trust\", \"trust\", \"united\", \"united\", \"united\", \"united\", \"use\", \"use\", \"use\", \"use\", \"use\", \"vehicles\", \"vehicles\", \"vehicles\", \"vehicles\", \"vernon\", \"voice\", \"voice\", \"voice\", \"vote\", \"vote\", \"vote\", \"war\", \"war\", \"war\", \"war\", \"wasn\", \"wasn\", \"wasn\", \"water\", \"water\", \"water\", \"water\", \"water\", \"way\", \"way\", \"way\", \"way\", \"way\", \"weapons\", \"week\", \"week\", \"week\", \"week\", \"welfare\", \"went\", \"went\", \"went\", \"west\", \"west\", \"west\", \"west\", \"west\", \"willie\", \"woman\", \"woman\", \"woman\", \"woman\", \"won\", \"won\", \"won\", \"won\", \"wondered\", \"work\", \"work\", \"work\", \"work\", \"work\", \"world\", \"world\", \"world\", \"world\", \"world\", \"wouldn\", \"wouldn\", \"wouldn\", \"yankees\", \"yards\", \"yes\", \"yes\", \"yes\", \"yesterday\", \"yesterday\", \"yesterday\", \"young\", \"young\", \"young\", \"young\"]}, \"R\": 30, \"lambda.step\": 0.01, \"plot.opts\": {\"xlab\": \"PC1\", \"ylab\": \"PC2\"}, \"topic.order\": [1, 2, 3, 4, 5]};\n",
       "\n",
       "function LDAvis_load_lib(url, callback){\n",
       "  var s = document.createElement('script');\n",
       "  s.src = url;\n",
       "  s.async = true;\n",
       "  s.onreadystatechange = s.onload = callback;\n",
       "  s.onerror = function(){console.warn(\"failed to load library \" + url);};\n",
       "  document.getElementsByTagName(\"head\")[0].appendChild(s);\n",
       "}\n",
       "\n",
       "if(typeof(LDAvis) !== \"undefined\"){\n",
       "   // already loaded: just create the visualization\n",
       "   !function(LDAvis){\n",
       "       new LDAvis(\"#\" + \"ldavis_el95273143412508481463770563\", ldavis_el95273143412508481463770563_data);\n",
       "   }(LDAvis);\n",
       "}else if(typeof define === \"function\" && define.amd){\n",
       "   // require.js is available: use it to load d3/LDAvis\n",
       "   require.config({paths: {d3: \"https://d3js.org/d3.v5\"}});\n",
       "   require([\"d3\"], function(d3){\n",
       "      window.d3 = d3;\n",
       "      LDAvis_load_lib(\"https://cdn.jsdelivr.net/gh/bmabey/pyLDAvis@3.4.0/pyLDAvis/js/ldavis.v3.0.0.js\", function(){\n",
       "        new LDAvis(\"#\" + \"ldavis_el95273143412508481463770563\", ldavis_el95273143412508481463770563_data);\n",
       "      });\n",
       "    });\n",
       "}else{\n",
       "    // require.js not available: dynamically load d3 & LDAvis\n",
       "    LDAvis_load_lib(\"https://d3js.org/d3.v5.js\", function(){\n",
       "         LDAvis_load_lib(\"https://cdn.jsdelivr.net/gh/bmabey/pyLDAvis@3.4.0/pyLDAvis/js/ldavis.v3.0.0.js\", function(){\n",
       "                 new LDAvis(\"#\" + \"ldavis_el95273143412508481463770563\", ldavis_el95273143412508481463770563_data);\n",
       "            })\n",
       "         });\n",
       "}\n",
       "</script>"
      ],
      "text/plain": [
       "<IPython.core.display.HTML object>"
      ]
     },
     "execution_count": 58,
     "metadata": {},
     "output_type": "execute_result"
    }
   ],
   "source": [
    "pyLDAvis.display(lda_display)"
   ]
  },
  {
   "attachments": {},
   "cell_type": "markdown",
   "id": "a3d14c87",
   "metadata": {},
   "source": [
    "Q: What conclusions do you draw from the visualization above? Please address the principal component scatterplot and the salient terms graph.\n",
    "\n",
    "A: \n",
    "- Based on the visualization, Topic 1 is associated with `hobbies` given the high relevance words such as \"game,\" \"season,\" and \"ball.\" \n",
    "- The high salience of \"president,\" \"political,\" and \"nucler\" indicate that Topic 3 is related to `government` as opposed Topic 2 (news) which include more general words such as \"state,\" \"development,\" and \"program\". \n",
    "- We can see in the scatterplot, that Topic 2, 3, and 4 have high overlap, but Topic 2's most relevant tokens include \"state,\" \"development,\" and \"programs\" which would indicate that Topic 2 is most associated with `editorial`. In comparison, Topic 4's most relevant tokens are \"feed,\" and \"general,\" and \"business\" suggesting it is more related to general `news`.\n",
    "- Topic 5 is clearly associated with the `romance` category based its obvious separation in the scatterplot and its most relevant terms being the most informal.\n"
   ]
  }
 ],
 "metadata": {
  "kernelspec": {
   "display_name": ".venv (3.13.7)",
   "language": "python",
   "name": "python3"
  },
  "language_info": {
   "codemirror_mode": {
    "name": "ipython",
    "version": 3
   },
   "file_extension": ".py",
   "mimetype": "text/x-python",
   "name": "python",
   "nbconvert_exporter": "python",
   "pygments_lexer": "ipython3",
   "version": "3.9.6"
  }
 },
 "nbformat": 4,
 "nbformat_minor": 5
}
